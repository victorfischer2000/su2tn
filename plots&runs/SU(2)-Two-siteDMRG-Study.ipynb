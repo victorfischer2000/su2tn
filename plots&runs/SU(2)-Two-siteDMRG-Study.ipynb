{
 "cells": [
  {
   "cell_type": "code",
   "execution_count": 21,
   "id": "4af080b9-a411-42a9-8e62-e294a03afd41",
   "metadata": {},
   "outputs": [],
   "source": [
    "from su2tn.models.randomMPS import randomMPS\n",
    "from su2tn.models.random_MPS_actual import return_MPS_list\n",
    "from su2tn.models.Heisenberg_MPO import heisenberg_MPO, get_full_MPO_from_su2tensors\n",
    "\n",
    "from su2tn.algorithms.MPO import MPO\n",
    "from su2tn.algorithms.MPS import MPS\n",
    "\n",
    "from su2tn.algorithms.dmrg import dmrg_one_site\n",
    "from su2tn.algorithms.two_site_dmrg import two_site_dmrg\n",
    "\n",
    "import numpy as np\n",
    "from su2tn.su2_tensor import SU2Tensor\n",
    "from su2tn.algorithms.MPS_util import get_explizit_tensor_state\n",
    "\n",
    "from su2tn.util import Csplit, Cfuse\n",
    "from copy import deepcopy\n",
    "import time\n",
    "import matplotlib.pyplot as plt\n",
    "import pandas as pd"
   ]
  },
  {
   "cell_type": "markdown",
   "id": "d02fccea-f036-4425-89e4-36fed68e2d2e",
   "metadata": {},
   "source": [
    "### Algorithm Parameter"
   ]
  },
  {
   "cell_type": "code",
   "execution_count": 22,
   "id": "5878ea9c-05b0-4e90-b458-c640eacda05a",
   "metadata": {},
   "outputs": [],
   "source": [
    "n_sites = 20\n",
    "\n",
    "lanczos_numiter = 5\n",
    "\n",
    "numsweeps = 5\n",
    "\n",
    "tol = 0\n",
    "\n",
    "abort_condition = None\n",
    "\n",
    "deg_dim = 6\n",
    "odd_bonds = [(1/2 + i, deg_dim) for i in range(int(np.ceil(n_sites / 4)))]\n",
    "even_bonds = [(i, deg_dim) for i in range(int(np.ceil(n_sites / 4)))]\n",
    "# odd_bonds = [(1/2, deg_dim), (3/2, deg_dim) , (5/2, deg_dim), (7/2, deg_dim), (9/2, deg_dim)]\n",
    "# even_bonds = [(0, deg_dim), (1, deg_dim) , (2, deg_dim), (3, deg_dim), (4, deg_dim), (5, deg_dim)]\n",
    "# print(odd_bonds)\n",
    "# print(even_bonds)"
   ]
  },
  {
   "cell_type": "code",
   "execution_count": 23,
   "id": "a2a05b27-640f-4e56-a47d-24591b8065a5",
   "metadata": {},
   "outputs": [],
   "source": [
    "MPSlist = return_MPS_list(n_sites=n_sites, odd_bonds=odd_bonds, even_bonds=even_bonds, fill='random real')\n",
    "initialMPS = MPS(MPSlist)\n",
    "\n",
    "MPOlist = heisenberg_MPO(n_sites=n_sites, J=+1)\n",
    "H = MPO(MPOlist)"
   ]
  },
  {
   "cell_type": "code",
   "execution_count": 24,
   "id": "1192b9e2-16d6-41dd-ace2-ae26a77db26a",
   "metadata": {},
   "outputs": [
    {
     "data": {
      "text/plain": [
       "3828"
      ]
     },
     "execution_count": 24,
     "metadata": {},
     "output_type": "execute_result"
    }
   ],
   "source": [
    "initial_total_paras = 0\n",
    "for mps in initialMPS.A:\n",
    "    for deg in mps.listOfDegeneracyTensors:\n",
    "        initial_total_paras += deg.size\n",
    "\n",
    "initial_total_paras"
   ]
  },
  {
   "cell_type": "markdown",
   "id": "a81f1126-5cc4-45d5-a03b-565b37122410",
   "metadata": {},
   "source": [
    "### Run the algorithm"
   ]
  },
  {
   "cell_type": "code",
   "execution_count": 25,
   "id": "d7d3ce63-128f-4de6-983f-b022c9c81b26",
   "metadata": {},
   "outputs": [
    {
     "name": "stdout",
     "output_type": "stream",
     "text": [
      "step:  0 optimize 0 1\n",
      "Eigenwerte:  [-2.62269586 -2.12816241 -1.25423074 -0.65044315 -0.25204376]\n",
      "-2.6226958629751285\n",
      "step:  1 optimize 1 2\n",
      "Eigenwerte:  [-2.75705378 -2.22572662 -1.35397757 -0.48003141  0.28857636]\n",
      "-2.757053778030119\n",
      "step:  2 optimize 2 3\n",
      "Eigenwerte:  [-4.69690702 -2.94906156 -2.39007139 -1.17433997  0.68724178]\n",
      "-4.696907020972023\n",
      "step:  3 optimize 3 4\n",
      "Eigenwerte:  [-4.77948976 -3.46807023 -2.08955232 -0.63648688  1.31161235]\n",
      "-4.779489760602721\n",
      "step:  4 optimize 4 5\n",
      "Eigenwerte:  [-4.87239383 -3.8622456  -3.22419182 -1.37037495  1.03159127]\n",
      "-4.872393826022211\n",
      "step:  5 optimize 5 6\n",
      "Eigenwerte:  [-4.9582841  -4.17723795 -2.8377995  -1.51571405  2.33238906]\n",
      "-4.958284103419663\n",
      "step:  6 optimize 6 7\n",
      "Eigenwerte:  [-5.43282513 -4.76645072 -3.33995607 -2.22378158  2.7622674 ]\n",
      "-5.432825132336227\n",
      "step:  7 optimize 7 8\n",
      "Eigenwerte:  [-5.50221551 -4.65981044 -2.79596478  0.49243459  3.47373   ]\n",
      "-5.502215513084522\n",
      "step:  8 optimize 8 9\n",
      "Eigenwerte:  [-5.96183855 -5.31511202 -3.92937537 -1.32120413  3.56409299]\n",
      "-5.961838546994838\n",
      "step:  9 optimize 9 10\n",
      "Eigenwerte:  [-6.26317658 -5.677681   -3.48847256  1.51696881  4.27159202]\n",
      "-6.263176583710072\n",
      "step:  10 optimize 10 11\n",
      "Eigenwerte:  [-7.0659196  -5.91110266 -4.24672326 -0.3446063   4.01472649]\n",
      "-7.065919596979292\n",
      "step:  11 optimize 11 12\n",
      "Eigenwerte:  [-7.25683361 -6.06535371 -4.22279794  0.87763891  3.6696929 ]\n",
      "-7.256833611891696\n",
      "step:  12 optimize 12 13\n",
      "Eigenwerte:  [-7.48928154 -7.0586735  -5.16065594 -2.16771146  3.75843542]\n",
      "-7.489281540522753\n",
      "step:  13 optimize 13 14\n",
      "Eigenwerte:  [-8.55291039 -7.37793972 -5.04216239  0.42446203  2.92450389]\n",
      "-8.552910389147524\n",
      "step:  14 optimize 14 15\n",
      "Eigenwerte:  [-8.67651589 -7.5491378  -4.57330781 -0.98684806  2.79525332]\n",
      "-8.676515891803211\n",
      "step:  15 optimize 15 16\n",
      "Eigenwerte:  [-8.6807527  -7.58323924 -5.30070244 -1.71287731  2.58572304]\n",
      "-8.680752699561852\n",
      "step:  16 optimize 16 17\n",
      "Eigenwerte:  [-8.68092254 -7.99492269 -6.83831392 -4.77658287 -2.82058624]\n",
      "-8.680922539191371\n",
      "step:  17 optimize 17 18\n",
      "Eigenwerte:  [-8.68092272 -7.76737513 -7.1869194  -6.62274591 -5.92143777]\n",
      "-8.680922718087864\n",
      "step:  18 optimize 18 19\n"
     ]
    },
    {
     "name": "stderr",
     "output_type": "stream",
     "text": [
      "C:\\Users\\FischerVicto\\PycharmProjects\\su2tn_playground\\su2tn\\algorithms\\lanczos_method.py:118: RuntimeWarning: beta[0] ~= 0 encountered during Lanczos iteration.\n",
      "  warnings.warn(\n"
     ]
    },
    {
     "name": "stdout",
     "output_type": "stream",
     "text": [
      "Eigenwerte:  [-8.68092272]\n",
      "-8.680922718087864\n",
      "step:  19 optimize 19 18\n"
     ]
    },
    {
     "name": "stderr",
     "output_type": "stream",
     "text": [
      "C:\\Users\\FischerVicto\\PycharmProjects\\su2tn_playground\\su2tn\\algorithms\\lanczos_method.py:118: RuntimeWarning: beta[0] ~= 0 encountered during Lanczos iteration.\n",
      "  warnings.warn(\n"
     ]
    },
    {
     "name": "stdout",
     "output_type": "stream",
     "text": [
      "Eigenwerte:  [-8.68092272]\n",
      "-8.68092271808786\n",
      "step:  18 optimize 18 17\n"
     ]
    },
    {
     "name": "stderr",
     "output_type": "stream",
     "text": [
      "C:\\Users\\FischerVicto\\PycharmProjects\\su2tn_playground\\su2tn\\algorithms\\lanczos_method.py:118: RuntimeWarning: beta[0] ~= 0 encountered during Lanczos iteration.\n",
      "  warnings.warn(\n"
     ]
    },
    {
     "name": "stdout",
     "output_type": "stream",
     "text": [
      "Eigenwerte:  [-8.68092272]\n",
      "-8.680922718087864\n",
      "step:  17 optimize 17 16\n",
      "Eigenwerte:  [-8.68092282 -7.22268407 -6.22922443 -5.05588247 -4.44427215]\n",
      "-8.680922823157129\n",
      "step:  16 optimize 16 15\n",
      "Eigenwerte:  [-8.6809692  -7.4924972  -5.46886853 -2.48876002 -0.80970762]\n",
      "-8.680969196929635\n",
      "step:  15 optimize 15 14\n",
      "Eigenwerte:  [-8.68171938 -7.42446218 -5.25752788 -0.86632463  1.38445126]\n",
      "-8.681719382440562\n",
      "step:  14 optimize 14 13\n",
      "Eigenwerte:  [-8.68231249 -7.3031562  -5.09524572 -1.64679773  2.01939496]\n",
      "-8.682312491089755\n",
      "step:  13 optimize 13 12\n",
      "Eigenwerte:  [-8.68234983 -7.46406856 -4.42940781 -0.91276605  3.65724334]\n",
      "-8.682349832239103\n",
      "step:  12 optimize 12 11\n",
      "Eigenwerte:  [-8.6823654  -7.218232   -4.54599798 -1.0790268   3.56057521]\n",
      "-8.682365395854333\n",
      "step:  11 optimize 11 10\n",
      "Eigenwerte:  [-8.68240709 -7.10092305 -4.54407997 -1.32092917  3.37130255]\n",
      "-8.682407093338165\n",
      "step:  10 optimize 10 9\n",
      "Eigenwerte:  [-8.68246234 -7.15638728 -4.69282197 -2.23622579  3.98251404]\n",
      "-8.68246234144936\n",
      "step:  9 optimize 9 8\n",
      "Eigenwerte:  [-8.68247184 -7.17996507 -4.94145282 -2.31390843  4.34197488]\n",
      "-8.682471835393336\n",
      "step:  8 optimize 8 7\n",
      "Eigenwerte:  [-8.68247312 -7.28282186 -4.37738015 -1.5096168   3.3182666 ]\n",
      "-8.682473117546978\n",
      "step:  7 optimize 7 6\n",
      "Eigenwerte:  [-8.68247332 -7.48077671 -4.51291625 -1.20355212  3.48030632]\n",
      "-8.682473319644537\n",
      "step:  6 optimize 6 5\n",
      "Eigenwerte:  [-8.68247333 -8.07008665 -4.98015123 -0.8830185   2.0522433 ]\n",
      "-8.682473333058438\n",
      "step:  5 optimize 5 4\n",
      "Eigenwerte:  [-8.68247333 -7.71964681 -5.51549498 -2.48818239  2.14475302]\n",
      "-8.682473334193793\n",
      "step:  4 optimize 4 3\n",
      "Eigenwerte:  [-8.68247333 -8.13589648 -6.58074829 -5.3677917  -3.78395554]\n",
      "-8.6824733342443\n",
      "step:  3 optimize 3 2\n"
     ]
    },
    {
     "name": "stderr",
     "output_type": "stream",
     "text": [
      "C:\\Users\\FischerVicto\\PycharmProjects\\su2tn_playground\\su2tn\\algorithms\\lanczos_method.py:118: RuntimeWarning: beta[0] ~= 0 encountered during Lanczos iteration.\n",
      "  warnings.warn(\n"
     ]
    },
    {
     "name": "stdout",
     "output_type": "stream",
     "text": [
      "Eigenwerte:  [-8.68247333]\n",
      "-8.682473334244303\n",
      "step:  2 optimize 2 1\n"
     ]
    },
    {
     "name": "stderr",
     "output_type": "stream",
     "text": [
      "C:\\Users\\FischerVicto\\PycharmProjects\\su2tn_playground\\su2tn\\algorithms\\lanczos_method.py:118: RuntimeWarning: beta[0] ~= 0 encountered during Lanczos iteration.\n",
      "  warnings.warn(\n"
     ]
    },
    {
     "name": "stdout",
     "output_type": "stream",
     "text": [
      "Eigenwerte:  [-8.68247333]\n",
      "-8.682473334244303\n",
      "step:  1 optimize 1 0\n"
     ]
    },
    {
     "name": "stderr",
     "output_type": "stream",
     "text": [
      "C:\\Users\\FischerVicto\\PycharmProjects\\su2tn_playground\\su2tn\\algorithms\\lanczos_method.py:118: RuntimeWarning: beta[0] ~= 0 encountered during Lanczos iteration.\n",
      "  warnings.warn(\n",
      "C:\\Users\\FischerVicto\\PycharmProjects\\su2tn_playground\\su2tn\\algorithms\\lanczos_method.py:118: RuntimeWarning: beta[0] ~= 0 encountered during Lanczos iteration.\n",
      "  warnings.warn(\n"
     ]
    },
    {
     "name": "stdout",
     "output_type": "stream",
     "text": [
      "Eigenwerte:  [-8.68247333]\n",
      "-8.682473334244307\n",
      "sweep 1 completed, current energy: -8.682473334244307\n",
      "step:  0 optimize 0 1\n",
      "Eigenwerte:  [-8.68247333]\n",
      "-8.682473334244307\n",
      "step:  1 optimize 1 2\n"
     ]
    },
    {
     "name": "stderr",
     "output_type": "stream",
     "text": [
      "C:\\Users\\FischerVicto\\PycharmProjects\\su2tn_playground\\su2tn\\algorithms\\lanczos_method.py:118: RuntimeWarning: beta[0] ~= 0 encountered during Lanczos iteration.\n",
      "  warnings.warn(\n"
     ]
    },
    {
     "name": "stdout",
     "output_type": "stream",
     "text": [
      "Eigenwerte:  [-8.68247333]\n",
      "-8.682473334244305\n",
      "step:  2 optimize 2 3\n"
     ]
    },
    {
     "name": "stderr",
     "output_type": "stream",
     "text": [
      "C:\\Users\\FischerVicto\\PycharmProjects\\su2tn_playground\\su2tn\\algorithms\\lanczos_method.py:118: RuntimeWarning: beta[0] ~= 0 encountered during Lanczos iteration.\n",
      "  warnings.warn(\n"
     ]
    },
    {
     "name": "stdout",
     "output_type": "stream",
     "text": [
      "Eigenwerte:  [-8.68247333]\n",
      "-8.682473334244303\n",
      "step:  3 optimize 3 4\n"
     ]
    },
    {
     "name": "stderr",
     "output_type": "stream",
     "text": [
      "C:\\Users\\FischerVicto\\PycharmProjects\\su2tn_playground\\su2tn\\algorithms\\lanczos_method.py:118: RuntimeWarning: beta[0] ~= 0 encountered during Lanczos iteration.\n",
      "  warnings.warn(\n"
     ]
    },
    {
     "name": "stdout",
     "output_type": "stream",
     "text": [
      "Eigenwerte:  [-8.68247333]\n",
      "-8.682473334244298\n",
      "step:  4 optimize 4 5\n",
      "Eigenwerte:  [-8.68247333 -7.62801346 -3.74135508 -0.80564736  1.44328858]\n",
      "-8.682473334275224\n",
      "step:  5 optimize 5 6\n",
      "Eigenwerte:  [-8.68247333 -7.4411564  -4.54752369 -1.53904615  1.33213896]\n",
      "-8.68247333433451\n",
      "step:  6 optimize 6 7\n",
      "Eigenwerte:  [-8.68247333 -7.54333708 -4.44703637  0.13393964  1.96074477]\n",
      "-8.682473334382074\n",
      "step:  7 optimize 7 8\n",
      "Eigenwerte:  [-8.68247333 -7.2403793  -4.09916403 -0.22571445  3.5733307 ]\n",
      "-8.682473334389798\n",
      "step:  8 optimize 8 9\n",
      "Eigenwerte:  [-8.68247333 -7.02166949 -4.33136012 -0.81201002  3.22129319]\n",
      "-8.682473334394324\n",
      "step:  9 optimize 9 10\n",
      "Eigenwerte:  [-8.68247333 -7.00892471 -4.14722188 -1.42057293  3.9062507 ]\n",
      "-8.68247333439781\n",
      "step:  10 optimize 10 11\n",
      "Eigenwerte:  [-8.68247333 -6.78797065 -4.27554767 -1.89059344  3.9381853 ]\n",
      "-8.682473334398592\n",
      "step:  11 optimize 11 12\n",
      "Eigenwerte:  [-8.68247333 -6.63322519 -4.50506017 -2.65983326  3.80650499]\n",
      "-8.682473334398969\n",
      "step:  12 optimize 12 13\n"
     ]
    },
    {
     "name": "stderr",
     "output_type": "stream",
     "text": [
      "C:\\Users\\FischerVicto\\PycharmProjects\\su2tn_playground\\su2tn\\algorithms\\lanczos_method.py:118: RuntimeWarning: beta[0] ~= 0 encountered during Lanczos iteration.\n",
      "  warnings.warn(\n"
     ]
    },
    {
     "name": "stdout",
     "output_type": "stream",
     "text": [
      "Eigenwerte:  [-8.68247333]\n",
      "-8.682473334398964\n",
      "step:  13 optimize 13 14\n"
     ]
    },
    {
     "name": "stderr",
     "output_type": "stream",
     "text": [
      "C:\\Users\\FischerVicto\\PycharmProjects\\su2tn_playground\\su2tn\\algorithms\\lanczos_method.py:118: RuntimeWarning: beta[0] ~= 0 encountered during Lanczos iteration.\n",
      "  warnings.warn(\n"
     ]
    },
    {
     "name": "stdout",
     "output_type": "stream",
     "text": [
      "Eigenwerte:  [-8.68247333]\n",
      "-8.682473334398962\n",
      "step:  14 optimize 14 15\n"
     ]
    },
    {
     "name": "stderr",
     "output_type": "stream",
     "text": [
      "C:\\Users\\FischerVicto\\PycharmProjects\\su2tn_playground\\su2tn\\algorithms\\lanczos_method.py:118: RuntimeWarning: beta[0] ~= 0 encountered during Lanczos iteration.\n",
      "  warnings.warn(\n"
     ]
    },
    {
     "name": "stdout",
     "output_type": "stream",
     "text": [
      "Eigenwerte:  [-8.68247333]\n",
      "-8.682473334398958\n",
      "step:  15 optimize 15 16\n"
     ]
    },
    {
     "name": "stderr",
     "output_type": "stream",
     "text": [
      "C:\\Users\\FischerVicto\\PycharmProjects\\su2tn_playground\\su2tn\\algorithms\\lanczos_method.py:118: RuntimeWarning: beta[0] ~= 0 encountered during Lanczos iteration.\n",
      "  warnings.warn(\n"
     ]
    },
    {
     "name": "stdout",
     "output_type": "stream",
     "text": [
      "Eigenwerte:  [-8.68247333]\n",
      "-8.682473334398951\n",
      "step:  16 optimize 16 17\n"
     ]
    },
    {
     "name": "stderr",
     "output_type": "stream",
     "text": [
      "C:\\Users\\FischerVicto\\PycharmProjects\\su2tn_playground\\su2tn\\algorithms\\lanczos_method.py:118: RuntimeWarning: beta[0] ~= 0 encountered during Lanczos iteration.\n",
      "  warnings.warn(\n"
     ]
    },
    {
     "name": "stdout",
     "output_type": "stream",
     "text": [
      "Eigenwerte:  [-8.68247333]\n",
      "-8.68247333439896\n",
      "step:  17 optimize 17 18\n"
     ]
    },
    {
     "name": "stderr",
     "output_type": "stream",
     "text": [
      "C:\\Users\\FischerVicto\\PycharmProjects\\su2tn_playground\\su2tn\\algorithms\\lanczos_method.py:118: RuntimeWarning: beta[0] ~= 0 encountered during Lanczos iteration.\n",
      "  warnings.warn(\n"
     ]
    },
    {
     "name": "stdout",
     "output_type": "stream",
     "text": [
      "Eigenwerte:  [-8.68247333]\n",
      "-8.682473334398962\n",
      "step:  18 optimize 18 19\n"
     ]
    },
    {
     "name": "stderr",
     "output_type": "stream",
     "text": [
      "C:\\Users\\FischerVicto\\PycharmProjects\\su2tn_playground\\su2tn\\algorithms\\lanczos_method.py:118: RuntimeWarning: beta[0] ~= 0 encountered during Lanczos iteration.\n",
      "  warnings.warn(\n"
     ]
    },
    {
     "name": "stdout",
     "output_type": "stream",
     "text": [
      "Eigenwerte:  [-8.68247333]\n",
      "-8.682473334398955\n",
      "step:  19 optimize 19 18\n"
     ]
    },
    {
     "name": "stderr",
     "output_type": "stream",
     "text": [
      "C:\\Users\\FischerVicto\\PycharmProjects\\su2tn_playground\\su2tn\\algorithms\\lanczos_method.py:118: RuntimeWarning: beta[0] ~= 0 encountered during Lanczos iteration.\n",
      "  warnings.warn(\n"
     ]
    },
    {
     "name": "stdout",
     "output_type": "stream",
     "text": [
      "Eigenwerte:  [-8.68247333]\n",
      "-8.682473334398953\n",
      "step:  18 optimize 18 17\n"
     ]
    },
    {
     "name": "stderr",
     "output_type": "stream",
     "text": [
      "C:\\Users\\FischerVicto\\PycharmProjects\\su2tn_playground\\su2tn\\algorithms\\lanczos_method.py:118: RuntimeWarning: beta[0] ~= 0 encountered during Lanczos iteration.\n",
      "  warnings.warn(\n"
     ]
    },
    {
     "name": "stdout",
     "output_type": "stream",
     "text": [
      "Eigenwerte:  [-8.68247333]\n",
      "-8.682473334398958\n",
      "step:  17 optimize 17 16\n"
     ]
    },
    {
     "name": "stderr",
     "output_type": "stream",
     "text": [
      "C:\\Users\\FischerVicto\\PycharmProjects\\su2tn_playground\\su2tn\\algorithms\\lanczos_method.py:118: RuntimeWarning: beta[0] ~= 0 encountered during Lanczos iteration.\n",
      "  warnings.warn(\n"
     ]
    },
    {
     "name": "stdout",
     "output_type": "stream",
     "text": [
      "Eigenwerte:  [-8.68247333]\n",
      "-8.68247333439896\n",
      "step:  16 optimize 16 15\n"
     ]
    },
    {
     "name": "stderr",
     "output_type": "stream",
     "text": [
      "C:\\Users\\FischerVicto\\PycharmProjects\\su2tn_playground\\su2tn\\algorithms\\lanczos_method.py:118: RuntimeWarning: beta[0] ~= 0 encountered during Lanczos iteration.\n",
      "  warnings.warn(\n"
     ]
    },
    {
     "name": "stdout",
     "output_type": "stream",
     "text": [
      "Eigenwerte:  [-8.68247333]\n",
      "-8.682473334398955\n",
      "step:  15 optimize 15 14\n"
     ]
    },
    {
     "name": "stderr",
     "output_type": "stream",
     "text": [
      "C:\\Users\\FischerVicto\\PycharmProjects\\su2tn_playground\\su2tn\\algorithms\\lanczos_method.py:118: RuntimeWarning: beta[0] ~= 0 encountered during Lanczos iteration.\n",
      "  warnings.warn(\n"
     ]
    },
    {
     "name": "stdout",
     "output_type": "stream",
     "text": [
      "Eigenwerte:  [-8.68247333]\n",
      "-8.68247333439896\n",
      "step:  14 optimize 14 13\n"
     ]
    },
    {
     "name": "stderr",
     "output_type": "stream",
     "text": [
      "C:\\Users\\FischerVicto\\PycharmProjects\\su2tn_playground\\su2tn\\algorithms\\lanczos_method.py:118: RuntimeWarning: beta[0] ~= 0 encountered during Lanczos iteration.\n",
      "  warnings.warn(\n"
     ]
    },
    {
     "name": "stdout",
     "output_type": "stream",
     "text": [
      "Eigenwerte:  [-8.68247333]\n",
      "-8.682473334398958\n",
      "step:  13 optimize 13 12\n"
     ]
    },
    {
     "name": "stderr",
     "output_type": "stream",
     "text": [
      "C:\\Users\\FischerVicto\\PycharmProjects\\su2tn_playground\\su2tn\\algorithms\\lanczos_method.py:118: RuntimeWarning: beta[0] ~= 0 encountered during Lanczos iteration.\n",
      "  warnings.warn(\n"
     ]
    },
    {
     "name": "stdout",
     "output_type": "stream",
     "text": [
      "Eigenwerte:  [-8.68247333]\n",
      "-8.682473334398955\n",
      "step:  12 optimize 12 11\n"
     ]
    },
    {
     "name": "stderr",
     "output_type": "stream",
     "text": [
      "C:\\Users\\FischerVicto\\PycharmProjects\\su2tn_playground\\su2tn\\algorithms\\lanczos_method.py:118: RuntimeWarning: beta[0] ~= 0 encountered during Lanczos iteration.\n",
      "  warnings.warn(\n"
     ]
    },
    {
     "name": "stdout",
     "output_type": "stream",
     "text": [
      "Eigenwerte:  [-8.68247333]\n",
      "-8.682473334398967\n",
      "step:  11 optimize 11 10\n"
     ]
    },
    {
     "name": "stderr",
     "output_type": "stream",
     "text": [
      "C:\\Users\\FischerVicto\\PycharmProjects\\su2tn_playground\\su2tn\\algorithms\\lanczos_method.py:118: RuntimeWarning: beta[0] ~= 0 encountered during Lanczos iteration.\n",
      "  warnings.warn(\n"
     ]
    },
    {
     "name": "stdout",
     "output_type": "stream",
     "text": [
      "Eigenwerte:  [-8.68247333]\n",
      "-8.682473334398974\n",
      "step:  10 optimize 10 9\n"
     ]
    },
    {
     "name": "stderr",
     "output_type": "stream",
     "text": [
      "C:\\Users\\FischerVicto\\PycharmProjects\\su2tn_playground\\su2tn\\algorithms\\lanczos_method.py:118: RuntimeWarning: beta[0] ~= 0 encountered during Lanczos iteration.\n",
      "  warnings.warn(\n"
     ]
    },
    {
     "name": "stdout",
     "output_type": "stream",
     "text": [
      "Eigenwerte:  [-8.68247333]\n",
      "-8.682473334398974\n",
      "step:  9 optimize 9 8\n"
     ]
    },
    {
     "name": "stderr",
     "output_type": "stream",
     "text": [
      "C:\\Users\\FischerVicto\\PycharmProjects\\su2tn_playground\\su2tn\\algorithms\\lanczos_method.py:118: RuntimeWarning: beta[0] ~= 0 encountered during Lanczos iteration.\n",
      "  warnings.warn(\n"
     ]
    },
    {
     "name": "stdout",
     "output_type": "stream",
     "text": [
      "Eigenwerte:  [-8.68247333]\n",
      "-8.682473334398981\n",
      "step:  8 optimize 8 7\n"
     ]
    },
    {
     "name": "stderr",
     "output_type": "stream",
     "text": [
      "C:\\Users\\FischerVicto\\PycharmProjects\\su2tn_playground\\su2tn\\algorithms\\lanczos_method.py:118: RuntimeWarning: beta[0] ~= 0 encountered during Lanczos iteration.\n",
      "  warnings.warn(\n"
     ]
    },
    {
     "name": "stdout",
     "output_type": "stream",
     "text": [
      "Eigenwerte:  [-8.68247333]\n",
      "-8.682473334398978\n",
      "step:  7 optimize 7 6\n"
     ]
    },
    {
     "name": "stderr",
     "output_type": "stream",
     "text": [
      "C:\\Users\\FischerVicto\\PycharmProjects\\su2tn_playground\\su2tn\\algorithms\\lanczos_method.py:118: RuntimeWarning: beta[0] ~= 0 encountered during Lanczos iteration.\n",
      "  warnings.warn(\n"
     ]
    },
    {
     "name": "stdout",
     "output_type": "stream",
     "text": [
      "Eigenwerte:  [-8.68247333]\n",
      "-8.682473334398981\n",
      "step:  6 optimize 6 5\n"
     ]
    },
    {
     "name": "stderr",
     "output_type": "stream",
     "text": [
      "C:\\Users\\FischerVicto\\PycharmProjects\\su2tn_playground\\su2tn\\algorithms\\lanczos_method.py:118: RuntimeWarning: beta[0] ~= 0 encountered during Lanczos iteration.\n",
      "  warnings.warn(\n"
     ]
    },
    {
     "name": "stdout",
     "output_type": "stream",
     "text": [
      "Eigenwerte:  [-8.68247333]\n",
      "-8.682473334398992\n",
      "step:  5 optimize 5 4\n"
     ]
    },
    {
     "name": "stderr",
     "output_type": "stream",
     "text": [
      "C:\\Users\\FischerVicto\\PycharmProjects\\su2tn_playground\\su2tn\\algorithms\\lanczos_method.py:118: RuntimeWarning: beta[0] ~= 0 encountered during Lanczos iteration.\n",
      "  warnings.warn(\n"
     ]
    },
    {
     "name": "stdout",
     "output_type": "stream",
     "text": [
      "Eigenwerte:  [-8.68247333]\n",
      "-8.682473334398987\n",
      "step:  4 optimize 4 3\n"
     ]
    },
    {
     "name": "stderr",
     "output_type": "stream",
     "text": [
      "C:\\Users\\FischerVicto\\PycharmProjects\\su2tn_playground\\su2tn\\algorithms\\lanczos_method.py:118: RuntimeWarning: beta[0] ~= 0 encountered during Lanczos iteration.\n",
      "  warnings.warn(\n"
     ]
    },
    {
     "name": "stdout",
     "output_type": "stream",
     "text": [
      "Eigenwerte:  [-8.68247333]\n",
      "-8.682473334398987\n",
      "step:  3 optimize 3 2\n"
     ]
    },
    {
     "name": "stderr",
     "output_type": "stream",
     "text": [
      "C:\\Users\\FischerVicto\\PycharmProjects\\su2tn_playground\\su2tn\\algorithms\\lanczos_method.py:118: RuntimeWarning: beta[0] ~= 0 encountered during Lanczos iteration.\n",
      "  warnings.warn(\n"
     ]
    },
    {
     "name": "stdout",
     "output_type": "stream",
     "text": [
      "Eigenwerte:  [-8.68247333]\n",
      "-8.682473334399\n",
      "step:  2 optimize 2 1\n"
     ]
    },
    {
     "name": "stderr",
     "output_type": "stream",
     "text": [
      "C:\\Users\\FischerVicto\\PycharmProjects\\su2tn_playground\\su2tn\\algorithms\\lanczos_method.py:118: RuntimeWarning: beta[0] ~= 0 encountered during Lanczos iteration.\n",
      "  warnings.warn(\n"
     ]
    },
    {
     "name": "stdout",
     "output_type": "stream",
     "text": [
      "Eigenwerte:  [-8.68247333]\n",
      "-8.682473334398999\n",
      "step:  1 optimize 1 0\n"
     ]
    },
    {
     "name": "stderr",
     "output_type": "stream",
     "text": [
      "C:\\Users\\FischerVicto\\PycharmProjects\\su2tn_playground\\su2tn\\algorithms\\lanczos_method.py:118: RuntimeWarning: beta[0] ~= 0 encountered during Lanczos iteration.\n",
      "  warnings.warn(\n",
      "C:\\Users\\FischerVicto\\PycharmProjects\\su2tn_playground\\su2tn\\algorithms\\lanczos_method.py:118: RuntimeWarning: beta[0] ~= 0 encountered during Lanczos iteration.\n",
      "  warnings.warn(\n"
     ]
    },
    {
     "name": "stdout",
     "output_type": "stream",
     "text": [
      "Eigenwerte:  [-8.68247333]\n",
      "-8.682473334399\n",
      "sweep 2 completed, current energy: -8.682473334399\n",
      "step:  0 optimize 0 1\n",
      "Eigenwerte:  [-8.68247333]\n",
      "-8.682473334399\n",
      "step:  1 optimize 1 2\n"
     ]
    },
    {
     "name": "stderr",
     "output_type": "stream",
     "text": [
      "C:\\Users\\FischerVicto\\PycharmProjects\\su2tn_playground\\su2tn\\algorithms\\lanczos_method.py:118: RuntimeWarning: beta[0] ~= 0 encountered during Lanczos iteration.\n",
      "  warnings.warn(\n"
     ]
    },
    {
     "name": "stdout",
     "output_type": "stream",
     "text": [
      "Eigenwerte:  [-8.68247333]\n",
      "-8.682473334398999\n",
      "step:  2 optimize 2 3\n"
     ]
    },
    {
     "name": "stderr",
     "output_type": "stream",
     "text": [
      "C:\\Users\\FischerVicto\\PycharmProjects\\su2tn_playground\\su2tn\\algorithms\\lanczos_method.py:118: RuntimeWarning: beta[0] ~= 0 encountered during Lanczos iteration.\n",
      "  warnings.warn(\n"
     ]
    },
    {
     "name": "stdout",
     "output_type": "stream",
     "text": [
      "Eigenwerte:  [-8.68247333]\n",
      "-8.682473334398997\n",
      "step:  3 optimize 3 4\n"
     ]
    },
    {
     "name": "stderr",
     "output_type": "stream",
     "text": [
      "C:\\Users\\FischerVicto\\PycharmProjects\\su2tn_playground\\su2tn\\algorithms\\lanczos_method.py:118: RuntimeWarning: beta[0] ~= 0 encountered during Lanczos iteration.\n",
      "  warnings.warn(\n"
     ]
    },
    {
     "name": "stdout",
     "output_type": "stream",
     "text": [
      "Eigenwerte:  [-8.68247333]\n",
      "-8.682473334398995\n",
      "step:  4 optimize 4 5\n"
     ]
    },
    {
     "name": "stderr",
     "output_type": "stream",
     "text": [
      "C:\\Users\\FischerVicto\\PycharmProjects\\su2tn_playground\\su2tn\\algorithms\\lanczos_method.py:118: RuntimeWarning: beta[0] ~= 0 encountered during Lanczos iteration.\n",
      "  warnings.warn(\n"
     ]
    },
    {
     "name": "stdout",
     "output_type": "stream",
     "text": [
      "Eigenwerte:  [-8.68247333]\n",
      "-8.682473334398997\n",
      "step:  5 optimize 5 6\n"
     ]
    },
    {
     "name": "stderr",
     "output_type": "stream",
     "text": [
      "C:\\Users\\FischerVicto\\PycharmProjects\\su2tn_playground\\su2tn\\algorithms\\lanczos_method.py:118: RuntimeWarning: beta[0] ~= 0 encountered during Lanczos iteration.\n",
      "  warnings.warn(\n"
     ]
    },
    {
     "name": "stdout",
     "output_type": "stream",
     "text": [
      "Eigenwerte:  [-8.68247333]\n",
      "-8.682473334398995\n",
      "step:  6 optimize 6 7\n"
     ]
    },
    {
     "name": "stderr",
     "output_type": "stream",
     "text": [
      "C:\\Users\\FischerVicto\\PycharmProjects\\su2tn_playground\\su2tn\\algorithms\\lanczos_method.py:118: RuntimeWarning: beta[0] ~= 0 encountered during Lanczos iteration.\n",
      "  warnings.warn(\n"
     ]
    },
    {
     "name": "stdout",
     "output_type": "stream",
     "text": [
      "Eigenwerte:  [-8.68247333]\n",
      "-8.682473334398995\n",
      "step:  7 optimize 7 8\n"
     ]
    },
    {
     "name": "stderr",
     "output_type": "stream",
     "text": [
      "C:\\Users\\FischerVicto\\PycharmProjects\\su2tn_playground\\su2tn\\algorithms\\lanczos_method.py:118: RuntimeWarning: beta[0] ~= 0 encountered during Lanczos iteration.\n",
      "  warnings.warn(\n"
     ]
    },
    {
     "name": "stdout",
     "output_type": "stream",
     "text": [
      "Eigenwerte:  [-8.68247333]\n",
      "-8.68247333439899\n",
      "step:  8 optimize 8 9\n"
     ]
    },
    {
     "name": "stderr",
     "output_type": "stream",
     "text": [
      "C:\\Users\\FischerVicto\\PycharmProjects\\su2tn_playground\\su2tn\\algorithms\\lanczos_method.py:118: RuntimeWarning: beta[0] ~= 0 encountered during Lanczos iteration.\n",
      "  warnings.warn(\n"
     ]
    },
    {
     "name": "stdout",
     "output_type": "stream",
     "text": [
      "Eigenwerte:  [-8.68247333]\n",
      "-8.682473334398992\n",
      "step:  9 optimize 9 10\n"
     ]
    },
    {
     "name": "stderr",
     "output_type": "stream",
     "text": [
      "C:\\Users\\FischerVicto\\PycharmProjects\\su2tn_playground\\su2tn\\algorithms\\lanczos_method.py:118: RuntimeWarning: beta[0] ~= 0 encountered during Lanczos iteration.\n",
      "  warnings.warn(\n"
     ]
    },
    {
     "name": "stdout",
     "output_type": "stream",
     "text": [
      "Eigenwerte:  [-8.68247333]\n",
      "-8.682473334398987\n",
      "step:  10 optimize 10 11\n"
     ]
    },
    {
     "name": "stderr",
     "output_type": "stream",
     "text": [
      "C:\\Users\\FischerVicto\\PycharmProjects\\su2tn_playground\\su2tn\\algorithms\\lanczos_method.py:118: RuntimeWarning: beta[0] ~= 0 encountered during Lanczos iteration.\n",
      "  warnings.warn(\n"
     ]
    },
    {
     "name": "stdout",
     "output_type": "stream",
     "text": [
      "Eigenwerte:  [-8.68247333]\n",
      "-8.68247333439899\n",
      "step:  11 optimize 11 12\n"
     ]
    },
    {
     "name": "stderr",
     "output_type": "stream",
     "text": [
      "C:\\Users\\FischerVicto\\PycharmProjects\\su2tn_playground\\su2tn\\algorithms\\lanczos_method.py:118: RuntimeWarning: beta[0] ~= 0 encountered during Lanczos iteration.\n",
      "  warnings.warn(\n"
     ]
    },
    {
     "name": "stdout",
     "output_type": "stream",
     "text": [
      "Eigenwerte:  [-8.68247333]\n",
      "-8.682473334398988\n",
      "step:  12 optimize 12 13\n"
     ]
    },
    {
     "name": "stderr",
     "output_type": "stream",
     "text": [
      "C:\\Users\\FischerVicto\\PycharmProjects\\su2tn_playground\\su2tn\\algorithms\\lanczos_method.py:118: RuntimeWarning: beta[0] ~= 0 encountered during Lanczos iteration.\n",
      "  warnings.warn(\n"
     ]
    },
    {
     "name": "stdout",
     "output_type": "stream",
     "text": [
      "Eigenwerte:  [-8.68247333]\n",
      "-8.68247333439898\n",
      "step:  13 optimize 13 14\n"
     ]
    },
    {
     "name": "stderr",
     "output_type": "stream",
     "text": [
      "C:\\Users\\FischerVicto\\PycharmProjects\\su2tn_playground\\su2tn\\algorithms\\lanczos_method.py:118: RuntimeWarning: beta[0] ~= 0 encountered during Lanczos iteration.\n",
      "  warnings.warn(\n"
     ]
    },
    {
     "name": "stdout",
     "output_type": "stream",
     "text": [
      "Eigenwerte:  [-8.68247333]\n",
      "-8.682473334398976\n",
      "step:  14 optimize 14 15\n"
     ]
    },
    {
     "name": "stderr",
     "output_type": "stream",
     "text": [
      "C:\\Users\\FischerVicto\\PycharmProjects\\su2tn_playground\\su2tn\\algorithms\\lanczos_method.py:118: RuntimeWarning: beta[0] ~= 0 encountered during Lanczos iteration.\n",
      "  warnings.warn(\n"
     ]
    },
    {
     "name": "stdout",
     "output_type": "stream",
     "text": [
      "Eigenwerte:  [-8.68247333]\n",
      "-8.682473334398972\n",
      "step:  15 optimize 15 16\n"
     ]
    },
    {
     "name": "stderr",
     "output_type": "stream",
     "text": [
      "C:\\Users\\FischerVicto\\PycharmProjects\\su2tn_playground\\su2tn\\algorithms\\lanczos_method.py:118: RuntimeWarning: beta[0] ~= 0 encountered during Lanczos iteration.\n",
      "  warnings.warn(\n"
     ]
    },
    {
     "name": "stdout",
     "output_type": "stream",
     "text": [
      "Eigenwerte:  [-8.68247333]\n",
      "-8.682473334398969\n",
      "step:  16 optimize 16 17\n"
     ]
    },
    {
     "name": "stderr",
     "output_type": "stream",
     "text": [
      "C:\\Users\\FischerVicto\\PycharmProjects\\su2tn_playground\\su2tn\\algorithms\\lanczos_method.py:118: RuntimeWarning: beta[0] ~= 0 encountered during Lanczos iteration.\n",
      "  warnings.warn(\n"
     ]
    },
    {
     "name": "stdout",
     "output_type": "stream",
     "text": [
      "Eigenwerte:  [-8.68247333]\n",
      "-8.682473334398964\n",
      "step:  17 optimize 17 18\n"
     ]
    },
    {
     "name": "stderr",
     "output_type": "stream",
     "text": [
      "C:\\Users\\FischerVicto\\PycharmProjects\\su2tn_playground\\su2tn\\algorithms\\lanczos_method.py:118: RuntimeWarning: beta[0] ~= 0 encountered during Lanczos iteration.\n",
      "  warnings.warn(\n"
     ]
    },
    {
     "name": "stdout",
     "output_type": "stream",
     "text": [
      "Eigenwerte:  [-8.68247333]\n",
      "-8.682473334398956\n",
      "step:  18 optimize 18 19\n"
     ]
    },
    {
     "name": "stderr",
     "output_type": "stream",
     "text": [
      "C:\\Users\\FischerVicto\\PycharmProjects\\su2tn_playground\\su2tn\\algorithms\\lanczos_method.py:118: RuntimeWarning: beta[0] ~= 0 encountered during Lanczos iteration.\n",
      "  warnings.warn(\n"
     ]
    },
    {
     "name": "stdout",
     "output_type": "stream",
     "text": [
      "Eigenwerte:  [-8.68247333]\n",
      "-8.682473334398956\n",
      "step:  19 optimize 19 18\n"
     ]
    },
    {
     "name": "stderr",
     "output_type": "stream",
     "text": [
      "C:\\Users\\FischerVicto\\PycharmProjects\\su2tn_playground\\su2tn\\algorithms\\lanczos_method.py:118: RuntimeWarning: beta[0] ~= 0 encountered during Lanczos iteration.\n",
      "  warnings.warn(\n"
     ]
    },
    {
     "name": "stdout",
     "output_type": "stream",
     "text": [
      "Eigenwerte:  [-8.68247333]\n",
      "-8.682473334398953\n",
      "step:  18 optimize 18 17\n"
     ]
    },
    {
     "name": "stderr",
     "output_type": "stream",
     "text": [
      "C:\\Users\\FischerVicto\\PycharmProjects\\su2tn_playground\\su2tn\\algorithms\\lanczos_method.py:118: RuntimeWarning: beta[0] ~= 0 encountered during Lanczos iteration.\n",
      "  warnings.warn(\n"
     ]
    },
    {
     "name": "stdout",
     "output_type": "stream",
     "text": [
      "Eigenwerte:  [-8.68247333]\n",
      "-8.68247333439896\n",
      "step:  17 optimize 17 16\n"
     ]
    },
    {
     "name": "stderr",
     "output_type": "stream",
     "text": [
      "C:\\Users\\FischerVicto\\PycharmProjects\\su2tn_playground\\su2tn\\algorithms\\lanczos_method.py:118: RuntimeWarning: beta[0] ~= 0 encountered during Lanczos iteration.\n",
      "  warnings.warn(\n"
     ]
    },
    {
     "name": "stdout",
     "output_type": "stream",
     "text": [
      "Eigenwerte:  [-8.68247333]\n",
      "-8.682473334398965\n",
      "step:  16 optimize 16 15\n"
     ]
    },
    {
     "name": "stderr",
     "output_type": "stream",
     "text": [
      "C:\\Users\\FischerVicto\\PycharmProjects\\su2tn_playground\\su2tn\\algorithms\\lanczos_method.py:118: RuntimeWarning: beta[0] ~= 0 encountered during Lanczos iteration.\n",
      "  warnings.warn(\n"
     ]
    },
    {
     "name": "stdout",
     "output_type": "stream",
     "text": [
      "Eigenwerte:  [-8.68247333]\n",
      "-8.682473334398965\n",
      "step:  15 optimize 15 14\n"
     ]
    },
    {
     "name": "stderr",
     "output_type": "stream",
     "text": [
      "C:\\Users\\FischerVicto\\PycharmProjects\\su2tn_playground\\su2tn\\algorithms\\lanczos_method.py:118: RuntimeWarning: beta[0] ~= 0 encountered during Lanczos iteration.\n",
      "  warnings.warn(\n"
     ]
    },
    {
     "name": "stdout",
     "output_type": "stream",
     "text": [
      "Eigenwerte:  [-8.68247333]\n",
      "-8.682473334398974\n",
      "step:  14 optimize 14 13\n"
     ]
    },
    {
     "name": "stderr",
     "output_type": "stream",
     "text": [
      "C:\\Users\\FischerVicto\\PycharmProjects\\su2tn_playground\\su2tn\\algorithms\\lanczos_method.py:118: RuntimeWarning: beta[0] ~= 0 encountered during Lanczos iteration.\n",
      "  warnings.warn(\n"
     ]
    },
    {
     "name": "stdout",
     "output_type": "stream",
     "text": [
      "Eigenwerte:  [-8.68247333]\n",
      "-8.682473334398972\n",
      "step:  13 optimize 13 12\n"
     ]
    },
    {
     "name": "stderr",
     "output_type": "stream",
     "text": [
      "C:\\Users\\FischerVicto\\PycharmProjects\\su2tn_playground\\su2tn\\algorithms\\lanczos_method.py:118: RuntimeWarning: beta[0] ~= 0 encountered during Lanczos iteration.\n",
      "  warnings.warn(\n"
     ]
    },
    {
     "name": "stdout",
     "output_type": "stream",
     "text": [
      "Eigenwerte:  [-8.68247333]\n",
      "-8.682473334398976\n",
      "step:  12 optimize 12 11\n"
     ]
    },
    {
     "name": "stderr",
     "output_type": "stream",
     "text": [
      "C:\\Users\\FischerVicto\\PycharmProjects\\su2tn_playground\\su2tn\\algorithms\\lanczos_method.py:118: RuntimeWarning: beta[0] ~= 0 encountered during Lanczos iteration.\n",
      "  warnings.warn(\n"
     ]
    },
    {
     "name": "stdout",
     "output_type": "stream",
     "text": [
      "Eigenwerte:  [-8.68247333]\n",
      "-8.682473334398985\n",
      "step:  11 optimize 11 10\n"
     ]
    },
    {
     "name": "stderr",
     "output_type": "stream",
     "text": [
      "C:\\Users\\FischerVicto\\PycharmProjects\\su2tn_playground\\su2tn\\algorithms\\lanczos_method.py:118: RuntimeWarning: beta[0] ~= 0 encountered during Lanczos iteration.\n",
      "  warnings.warn(\n"
     ]
    },
    {
     "name": "stdout",
     "output_type": "stream",
     "text": [
      "Eigenwerte:  [-8.68247333]\n",
      "-8.682473334398983\n",
      "step:  10 optimize 10 9\n"
     ]
    },
    {
     "name": "stderr",
     "output_type": "stream",
     "text": [
      "C:\\Users\\FischerVicto\\PycharmProjects\\su2tn_playground\\su2tn\\algorithms\\lanczos_method.py:118: RuntimeWarning: beta[0] ~= 0 encountered during Lanczos iteration.\n",
      "  warnings.warn(\n"
     ]
    },
    {
     "name": "stdout",
     "output_type": "stream",
     "text": [
      "Eigenwerte:  [-8.68247333]\n",
      "-8.682473334398972\n",
      "step:  9 optimize 9 8\n"
     ]
    },
    {
     "name": "stderr",
     "output_type": "stream",
     "text": [
      "C:\\Users\\FischerVicto\\PycharmProjects\\su2tn_playground\\su2tn\\algorithms\\lanczos_method.py:118: RuntimeWarning: beta[0] ~= 0 encountered during Lanczos iteration.\n",
      "  warnings.warn(\n"
     ]
    },
    {
     "name": "stdout",
     "output_type": "stream",
     "text": [
      "Eigenwerte:  [-8.68247333]\n",
      "-8.682473334398981\n",
      "step:  8 optimize 8 7\n"
     ]
    },
    {
     "name": "stderr",
     "output_type": "stream",
     "text": [
      "C:\\Users\\FischerVicto\\PycharmProjects\\su2tn_playground\\su2tn\\algorithms\\lanczos_method.py:118: RuntimeWarning: beta[0] ~= 0 encountered during Lanczos iteration.\n",
      "  warnings.warn(\n"
     ]
    },
    {
     "name": "stdout",
     "output_type": "stream",
     "text": [
      "Eigenwerte:  [-8.68247333]\n",
      "-8.682473334398988\n",
      "step:  7 optimize 7 6\n"
     ]
    },
    {
     "name": "stderr",
     "output_type": "stream",
     "text": [
      "C:\\Users\\FischerVicto\\PycharmProjects\\su2tn_playground\\su2tn\\algorithms\\lanczos_method.py:118: RuntimeWarning: beta[0] ~= 0 encountered during Lanczos iteration.\n",
      "  warnings.warn(\n"
     ]
    },
    {
     "name": "stdout",
     "output_type": "stream",
     "text": [
      "Eigenwerte:  [-8.68247333]\n",
      "-8.682473334398992\n",
      "step:  6 optimize 6 5\n"
     ]
    },
    {
     "name": "stderr",
     "output_type": "stream",
     "text": [
      "C:\\Users\\FischerVicto\\PycharmProjects\\su2tn_playground\\su2tn\\algorithms\\lanczos_method.py:118: RuntimeWarning: beta[0] ~= 0 encountered during Lanczos iteration.\n",
      "  warnings.warn(\n"
     ]
    },
    {
     "name": "stdout",
     "output_type": "stream",
     "text": [
      "Eigenwerte:  [-8.68247333]\n",
      "-8.682473334398994\n",
      "step:  5 optimize 5 4\n"
     ]
    },
    {
     "name": "stderr",
     "output_type": "stream",
     "text": [
      "C:\\Users\\FischerVicto\\PycharmProjects\\su2tn_playground\\su2tn\\algorithms\\lanczos_method.py:118: RuntimeWarning: beta[0] ~= 0 encountered during Lanczos iteration.\n",
      "  warnings.warn(\n"
     ]
    },
    {
     "name": "stdout",
     "output_type": "stream",
     "text": [
      "Eigenwerte:  [-8.68247333]\n",
      "-8.682473334398994\n",
      "step:  4 optimize 4 3\n"
     ]
    },
    {
     "name": "stderr",
     "output_type": "stream",
     "text": [
      "C:\\Users\\FischerVicto\\PycharmProjects\\su2tn_playground\\su2tn\\algorithms\\lanczos_method.py:118: RuntimeWarning: beta[0] ~= 0 encountered during Lanczos iteration.\n",
      "  warnings.warn(\n"
     ]
    },
    {
     "name": "stdout",
     "output_type": "stream",
     "text": [
      "Eigenwerte:  [-8.68247333]\n",
      "-8.682473334399\n",
      "step:  3 optimize 3 2\n"
     ]
    },
    {
     "name": "stderr",
     "output_type": "stream",
     "text": [
      "C:\\Users\\FischerVicto\\PycharmProjects\\su2tn_playground\\su2tn\\algorithms\\lanczos_method.py:118: RuntimeWarning: beta[0] ~= 0 encountered during Lanczos iteration.\n",
      "  warnings.warn(\n"
     ]
    },
    {
     "name": "stdout",
     "output_type": "stream",
     "text": [
      "Eigenwerte:  [-8.68247333]\n",
      "-8.682473334398997\n",
      "step:  2 optimize 2 1\n"
     ]
    },
    {
     "name": "stderr",
     "output_type": "stream",
     "text": [
      "C:\\Users\\FischerVicto\\PycharmProjects\\su2tn_playground\\su2tn\\algorithms\\lanczos_method.py:118: RuntimeWarning: beta[0] ~= 0 encountered during Lanczos iteration.\n",
      "  warnings.warn(\n"
     ]
    },
    {
     "name": "stdout",
     "output_type": "stream",
     "text": [
      "Eigenwerte:  [-8.68247333]\n",
      "-8.682473334399003\n",
      "step:  1 optimize 1 0\n"
     ]
    },
    {
     "name": "stderr",
     "output_type": "stream",
     "text": [
      "C:\\Users\\FischerVicto\\PycharmProjects\\su2tn_playground\\su2tn\\algorithms\\lanczos_method.py:118: RuntimeWarning: beta[0] ~= 0 encountered during Lanczos iteration.\n",
      "  warnings.warn(\n",
      "C:\\Users\\FischerVicto\\PycharmProjects\\su2tn_playground\\su2tn\\algorithms\\lanczos_method.py:118: RuntimeWarning: beta[0] ~= 0 encountered during Lanczos iteration.\n",
      "  warnings.warn(\n"
     ]
    },
    {
     "name": "stdout",
     "output_type": "stream",
     "text": [
      "Eigenwerte:  [-8.68247333]\n",
      "-8.68247333439901\n",
      "sweep 3 completed, current energy: -8.68247333439901\n",
      "step:  0 optimize 0 1\n",
      "Eigenwerte:  [-8.68247333]\n",
      "-8.68247333439901\n",
      "step:  1 optimize 1 2\n"
     ]
    },
    {
     "name": "stderr",
     "output_type": "stream",
     "text": [
      "C:\\Users\\FischerVicto\\PycharmProjects\\su2tn_playground\\su2tn\\algorithms\\lanczos_method.py:118: RuntimeWarning: beta[0] ~= 0 encountered during Lanczos iteration.\n",
      "  warnings.warn(\n"
     ]
    },
    {
     "name": "stdout",
     "output_type": "stream",
     "text": [
      "Eigenwerte:  [-8.68247333]\n",
      "-8.682473334399006\n",
      "step:  2 optimize 2 3\n"
     ]
    },
    {
     "name": "stderr",
     "output_type": "stream",
     "text": [
      "C:\\Users\\FischerVicto\\PycharmProjects\\su2tn_playground\\su2tn\\algorithms\\lanczos_method.py:118: RuntimeWarning: beta[0] ~= 0 encountered during Lanczos iteration.\n",
      "  warnings.warn(\n"
     ]
    },
    {
     "name": "stdout",
     "output_type": "stream",
     "text": [
      "Eigenwerte:  [-8.68247333]\n",
      "-8.682473334398997\n",
      "step:  3 optimize 3 4\n"
     ]
    },
    {
     "name": "stderr",
     "output_type": "stream",
     "text": [
      "C:\\Users\\FischerVicto\\PycharmProjects\\su2tn_playground\\su2tn\\algorithms\\lanczos_method.py:118: RuntimeWarning: beta[0] ~= 0 encountered during Lanczos iteration.\n",
      "  warnings.warn(\n"
     ]
    },
    {
     "name": "stdout",
     "output_type": "stream",
     "text": [
      "Eigenwerte:  [-8.68247333]\n",
      "-8.682473334398999\n",
      "step:  4 optimize 4 5\n"
     ]
    },
    {
     "name": "stderr",
     "output_type": "stream",
     "text": [
      "C:\\Users\\FischerVicto\\PycharmProjects\\su2tn_playground\\su2tn\\algorithms\\lanczos_method.py:118: RuntimeWarning: beta[0] ~= 0 encountered during Lanczos iteration.\n",
      "  warnings.warn(\n"
     ]
    },
    {
     "name": "stdout",
     "output_type": "stream",
     "text": [
      "Eigenwerte:  [-8.68247333]\n",
      "-8.682473334398992\n",
      "step:  5 optimize 5 6\n"
     ]
    },
    {
     "name": "stderr",
     "output_type": "stream",
     "text": [
      "C:\\Users\\FischerVicto\\PycharmProjects\\su2tn_playground\\su2tn\\algorithms\\lanczos_method.py:118: RuntimeWarning: beta[0] ~= 0 encountered during Lanczos iteration.\n",
      "  warnings.warn(\n"
     ]
    },
    {
     "name": "stdout",
     "output_type": "stream",
     "text": [
      "Eigenwerte:  [-8.68247333]\n",
      "-8.682473334398995\n",
      "step:  6 optimize 6 7\n"
     ]
    },
    {
     "name": "stderr",
     "output_type": "stream",
     "text": [
      "C:\\Users\\FischerVicto\\PycharmProjects\\su2tn_playground\\su2tn\\algorithms\\lanczos_method.py:118: RuntimeWarning: beta[0] ~= 0 encountered during Lanczos iteration.\n",
      "  warnings.warn(\n"
     ]
    },
    {
     "name": "stdout",
     "output_type": "stream",
     "text": [
      "Eigenwerte:  [-8.68247333]\n",
      "-8.68247333439899\n",
      "step:  7 optimize 7 8\n"
     ]
    },
    {
     "name": "stderr",
     "output_type": "stream",
     "text": [
      "C:\\Users\\FischerVicto\\PycharmProjects\\su2tn_playground\\su2tn\\algorithms\\lanczos_method.py:118: RuntimeWarning: beta[0] ~= 0 encountered during Lanczos iteration.\n",
      "  warnings.warn(\n"
     ]
    },
    {
     "name": "stdout",
     "output_type": "stream",
     "text": [
      "Eigenwerte:  [-8.68247333]\n",
      "-8.682473334398983\n",
      "step:  8 optimize 8 9\n"
     ]
    },
    {
     "name": "stderr",
     "output_type": "stream",
     "text": [
      "C:\\Users\\FischerVicto\\PycharmProjects\\su2tn_playground\\su2tn\\algorithms\\lanczos_method.py:118: RuntimeWarning: beta[0] ~= 0 encountered during Lanczos iteration.\n",
      "  warnings.warn(\n"
     ]
    },
    {
     "name": "stdout",
     "output_type": "stream",
     "text": [
      "Eigenwerte:  [-8.68247333]\n",
      "-8.682473334398978\n",
      "step:  9 optimize 9 10\n"
     ]
    },
    {
     "name": "stderr",
     "output_type": "stream",
     "text": [
      "C:\\Users\\FischerVicto\\PycharmProjects\\su2tn_playground\\su2tn\\algorithms\\lanczos_method.py:118: RuntimeWarning: beta[0] ~= 0 encountered during Lanczos iteration.\n",
      "  warnings.warn(\n"
     ]
    },
    {
     "name": "stdout",
     "output_type": "stream",
     "text": [
      "Eigenwerte:  [-8.68247333]\n",
      "-8.682473334398976\n",
      "step:  10 optimize 10 11\n"
     ]
    },
    {
     "name": "stderr",
     "output_type": "stream",
     "text": [
      "C:\\Users\\FischerVicto\\PycharmProjects\\su2tn_playground\\su2tn\\algorithms\\lanczos_method.py:118: RuntimeWarning: beta[0] ~= 0 encountered during Lanczos iteration.\n",
      "  warnings.warn(\n"
     ]
    },
    {
     "name": "stdout",
     "output_type": "stream",
     "text": [
      "Eigenwerte:  [-8.68247333]\n",
      "-8.682473334398987\n",
      "step:  11 optimize 11 12\n"
     ]
    },
    {
     "name": "stderr",
     "output_type": "stream",
     "text": [
      "C:\\Users\\FischerVicto\\PycharmProjects\\su2tn_playground\\su2tn\\algorithms\\lanczos_method.py:118: RuntimeWarning: beta[0] ~= 0 encountered during Lanczos iteration.\n",
      "  warnings.warn(\n"
     ]
    },
    {
     "name": "stdout",
     "output_type": "stream",
     "text": [
      "Eigenwerte:  [-8.68247333]\n",
      "-8.682473334398985\n",
      "step:  12 optimize 12 13\n"
     ]
    },
    {
     "name": "stderr",
     "output_type": "stream",
     "text": [
      "C:\\Users\\FischerVicto\\PycharmProjects\\su2tn_playground\\su2tn\\algorithms\\lanczos_method.py:118: RuntimeWarning: beta[0] ~= 0 encountered during Lanczos iteration.\n",
      "  warnings.warn(\n"
     ]
    },
    {
     "name": "stdout",
     "output_type": "stream",
     "text": [
      "Eigenwerte:  [-8.68247333]\n",
      "-8.682473334398983\n",
      "step:  13 optimize 13 14\n"
     ]
    },
    {
     "name": "stderr",
     "output_type": "stream",
     "text": [
      "C:\\Users\\FischerVicto\\PycharmProjects\\su2tn_playground\\su2tn\\algorithms\\lanczos_method.py:118: RuntimeWarning: beta[0] ~= 0 encountered during Lanczos iteration.\n",
      "  warnings.warn(\n"
     ]
    },
    {
     "name": "stdout",
     "output_type": "stream",
     "text": [
      "Eigenwerte:  [-8.68247333]\n",
      "-8.682473334398974\n",
      "step:  14 optimize 14 15\n"
     ]
    },
    {
     "name": "stderr",
     "output_type": "stream",
     "text": [
      "C:\\Users\\FischerVicto\\PycharmProjects\\su2tn_playground\\su2tn\\algorithms\\lanczos_method.py:118: RuntimeWarning: beta[0] ~= 0 encountered during Lanczos iteration.\n",
      "  warnings.warn(\n"
     ]
    },
    {
     "name": "stdout",
     "output_type": "stream",
     "text": [
      "Eigenwerte:  [-8.68247333]\n",
      "-8.682473334398972\n",
      "step:  15 optimize 15 16\n"
     ]
    },
    {
     "name": "stderr",
     "output_type": "stream",
     "text": [
      "C:\\Users\\FischerVicto\\PycharmProjects\\su2tn_playground\\su2tn\\algorithms\\lanczos_method.py:118: RuntimeWarning: beta[0] ~= 0 encountered during Lanczos iteration.\n",
      "  warnings.warn(\n"
     ]
    },
    {
     "name": "stdout",
     "output_type": "stream",
     "text": [
      "Eigenwerte:  [-8.68247333]\n",
      "-8.682473334398969\n",
      "step:  16 optimize 16 17\n"
     ]
    },
    {
     "name": "stderr",
     "output_type": "stream",
     "text": [
      "C:\\Users\\FischerVicto\\PycharmProjects\\su2tn_playground\\su2tn\\algorithms\\lanczos_method.py:118: RuntimeWarning: beta[0] ~= 0 encountered during Lanczos iteration.\n",
      "  warnings.warn(\n"
     ]
    },
    {
     "name": "stdout",
     "output_type": "stream",
     "text": [
      "Eigenwerte:  [-8.68247333]\n",
      "-8.682473334398967\n",
      "step:  17 optimize 17 18\n"
     ]
    },
    {
     "name": "stderr",
     "output_type": "stream",
     "text": [
      "C:\\Users\\FischerVicto\\PycharmProjects\\su2tn_playground\\su2tn\\algorithms\\lanczos_method.py:118: RuntimeWarning: beta[0] ~= 0 encountered during Lanczos iteration.\n",
      "  warnings.warn(\n"
     ]
    },
    {
     "name": "stdout",
     "output_type": "stream",
     "text": [
      "Eigenwerte:  [-8.68247333]\n",
      "-8.682473334398967\n",
      "step:  18 optimize 18 19\n"
     ]
    },
    {
     "name": "stderr",
     "output_type": "stream",
     "text": [
      "C:\\Users\\FischerVicto\\PycharmProjects\\su2tn_playground\\su2tn\\algorithms\\lanczos_method.py:118: RuntimeWarning: beta[0] ~= 0 encountered during Lanczos iteration.\n",
      "  warnings.warn(\n"
     ]
    },
    {
     "name": "stdout",
     "output_type": "stream",
     "text": [
      "Eigenwerte:  [-8.68247333]\n",
      "-8.682473334398962\n",
      "step:  19 optimize 19 18\n"
     ]
    },
    {
     "name": "stderr",
     "output_type": "stream",
     "text": [
      "C:\\Users\\FischerVicto\\PycharmProjects\\su2tn_playground\\su2tn\\algorithms\\lanczos_method.py:118: RuntimeWarning: beta[0] ~= 0 encountered during Lanczos iteration.\n",
      "  warnings.warn(\n"
     ]
    },
    {
     "name": "stdout",
     "output_type": "stream",
     "text": [
      "Eigenwerte:  [-8.68247333]\n",
      "-8.682473334398964\n",
      "step:  18 optimize 18 17\n"
     ]
    },
    {
     "name": "stderr",
     "output_type": "stream",
     "text": [
      "C:\\Users\\FischerVicto\\PycharmProjects\\su2tn_playground\\su2tn\\algorithms\\lanczos_method.py:118: RuntimeWarning: beta[0] ~= 0 encountered during Lanczos iteration.\n",
      "  warnings.warn(\n"
     ]
    },
    {
     "name": "stdout",
     "output_type": "stream",
     "text": [
      "Eigenwerte:  [-8.68247333]\n",
      "-8.682473334398967\n",
      "step:  17 optimize 17 16\n"
     ]
    },
    {
     "name": "stderr",
     "output_type": "stream",
     "text": [
      "C:\\Users\\FischerVicto\\PycharmProjects\\su2tn_playground\\su2tn\\algorithms\\lanczos_method.py:118: RuntimeWarning: beta[0] ~= 0 encountered during Lanczos iteration.\n",
      "  warnings.warn(\n"
     ]
    },
    {
     "name": "stdout",
     "output_type": "stream",
     "text": [
      "Eigenwerte:  [-8.68247333]\n",
      "-8.682473334398969\n",
      "step:  16 optimize 16 15\n"
     ]
    },
    {
     "name": "stderr",
     "output_type": "stream",
     "text": [
      "C:\\Users\\FischerVicto\\PycharmProjects\\su2tn_playground\\su2tn\\algorithms\\lanczos_method.py:118: RuntimeWarning: beta[0] ~= 0 encountered during Lanczos iteration.\n",
      "  warnings.warn(\n"
     ]
    },
    {
     "name": "stdout",
     "output_type": "stream",
     "text": [
      "Eigenwerte:  [-8.68247333]\n",
      "-8.682473334398972\n",
      "step:  15 optimize 15 14\n"
     ]
    },
    {
     "name": "stderr",
     "output_type": "stream",
     "text": [
      "C:\\Users\\FischerVicto\\PycharmProjects\\su2tn_playground\\su2tn\\algorithms\\lanczos_method.py:118: RuntimeWarning: beta[0] ~= 0 encountered during Lanczos iteration.\n",
      "  warnings.warn(\n"
     ]
    },
    {
     "name": "stdout",
     "output_type": "stream",
     "text": [
      "Eigenwerte:  [-8.68247333]\n",
      "-8.682473334398976\n",
      "step:  14 optimize 14 13\n"
     ]
    },
    {
     "name": "stderr",
     "output_type": "stream",
     "text": [
      "C:\\Users\\FischerVicto\\PycharmProjects\\su2tn_playground\\su2tn\\algorithms\\lanczos_method.py:118: RuntimeWarning: beta[0] ~= 0 encountered during Lanczos iteration.\n",
      "  warnings.warn(\n"
     ]
    },
    {
     "name": "stdout",
     "output_type": "stream",
     "text": [
      "Eigenwerte:  [-8.68247333]\n",
      "-8.682473334398978\n",
      "step:  13 optimize 13 12\n"
     ]
    },
    {
     "name": "stderr",
     "output_type": "stream",
     "text": [
      "C:\\Users\\FischerVicto\\PycharmProjects\\su2tn_playground\\su2tn\\algorithms\\lanczos_method.py:118: RuntimeWarning: beta[0] ~= 0 encountered during Lanczos iteration.\n",
      "  warnings.warn(\n"
     ]
    },
    {
     "name": "stdout",
     "output_type": "stream",
     "text": [
      "Eigenwerte:  [-8.68247333]\n",
      "-8.682473334398983\n",
      "step:  12 optimize 12 11\n"
     ]
    },
    {
     "name": "stderr",
     "output_type": "stream",
     "text": [
      "C:\\Users\\FischerVicto\\PycharmProjects\\su2tn_playground\\su2tn\\algorithms\\lanczos_method.py:118: RuntimeWarning: beta[0] ~= 0 encountered during Lanczos iteration.\n",
      "  warnings.warn(\n"
     ]
    },
    {
     "name": "stdout",
     "output_type": "stream",
     "text": [
      "Eigenwerte:  [-8.68247333]\n",
      "-8.682473334398983\n",
      "step:  11 optimize 11 10\n"
     ]
    },
    {
     "name": "stderr",
     "output_type": "stream",
     "text": [
      "C:\\Users\\FischerVicto\\PycharmProjects\\su2tn_playground\\su2tn\\algorithms\\lanczos_method.py:118: RuntimeWarning: beta[0] ~= 0 encountered during Lanczos iteration.\n",
      "  warnings.warn(\n"
     ]
    },
    {
     "name": "stdout",
     "output_type": "stream",
     "text": [
      "Eigenwerte:  [-8.68247333]\n",
      "-8.68247333439899\n",
      "step:  10 optimize 10 9\n"
     ]
    },
    {
     "name": "stderr",
     "output_type": "stream",
     "text": [
      "C:\\Users\\FischerVicto\\PycharmProjects\\su2tn_playground\\su2tn\\algorithms\\lanczos_method.py:118: RuntimeWarning: beta[0] ~= 0 encountered during Lanczos iteration.\n",
      "  warnings.warn(\n"
     ]
    },
    {
     "name": "stdout",
     "output_type": "stream",
     "text": [
      "Eigenwerte:  [-8.68247333]\n",
      "-8.682473334398987\n",
      "step:  9 optimize 9 8\n"
     ]
    },
    {
     "name": "stderr",
     "output_type": "stream",
     "text": [
      "C:\\Users\\FischerVicto\\PycharmProjects\\su2tn_playground\\su2tn\\algorithms\\lanczos_method.py:118: RuntimeWarning: beta[0] ~= 0 encountered during Lanczos iteration.\n",
      "  warnings.warn(\n"
     ]
    },
    {
     "name": "stdout",
     "output_type": "stream",
     "text": [
      "Eigenwerte:  [-8.68247333]\n",
      "-8.682473334398981\n",
      "step:  8 optimize 8 7\n"
     ]
    },
    {
     "name": "stderr",
     "output_type": "stream",
     "text": [
      "C:\\Users\\FischerVicto\\PycharmProjects\\su2tn_playground\\su2tn\\algorithms\\lanczos_method.py:118: RuntimeWarning: beta[0] ~= 0 encountered during Lanczos iteration.\n",
      "  warnings.warn(\n"
     ]
    },
    {
     "name": "stdout",
     "output_type": "stream",
     "text": [
      "Eigenwerte:  [-8.68247333]\n",
      "-8.68247333439899\n",
      "step:  7 optimize 7 6\n"
     ]
    },
    {
     "name": "stderr",
     "output_type": "stream",
     "text": [
      "C:\\Users\\FischerVicto\\PycharmProjects\\su2tn_playground\\su2tn\\algorithms\\lanczos_method.py:118: RuntimeWarning: beta[0] ~= 0 encountered during Lanczos iteration.\n",
      "  warnings.warn(\n"
     ]
    },
    {
     "name": "stdout",
     "output_type": "stream",
     "text": [
      "Eigenwerte:  [-8.68247333]\n",
      "-8.682473334398994\n",
      "step:  6 optimize 6 5\n"
     ]
    },
    {
     "name": "stderr",
     "output_type": "stream",
     "text": [
      "C:\\Users\\FischerVicto\\PycharmProjects\\su2tn_playground\\su2tn\\algorithms\\lanczos_method.py:118: RuntimeWarning: beta[0] ~= 0 encountered during Lanczos iteration.\n",
      "  warnings.warn(\n"
     ]
    },
    {
     "name": "stdout",
     "output_type": "stream",
     "text": [
      "Eigenwerte:  [-8.68247333]\n",
      "-8.682473334398992\n",
      "step:  5 optimize 5 4\n"
     ]
    },
    {
     "name": "stderr",
     "output_type": "stream",
     "text": [
      "C:\\Users\\FischerVicto\\PycharmProjects\\su2tn_playground\\su2tn\\algorithms\\lanczos_method.py:118: RuntimeWarning: beta[0] ~= 0 encountered during Lanczos iteration.\n",
      "  warnings.warn(\n"
     ]
    },
    {
     "name": "stdout",
     "output_type": "stream",
     "text": [
      "Eigenwerte:  [-8.68247333]\n",
      "-8.682473334398988\n",
      "step:  4 optimize 4 3\n"
     ]
    },
    {
     "name": "stderr",
     "output_type": "stream",
     "text": [
      "C:\\Users\\FischerVicto\\PycharmProjects\\su2tn_playground\\su2tn\\algorithms\\lanczos_method.py:118: RuntimeWarning: beta[0] ~= 0 encountered during Lanczos iteration.\n",
      "  warnings.warn(\n"
     ]
    },
    {
     "name": "stdout",
     "output_type": "stream",
     "text": [
      "Eigenwerte:  [-8.68247333]\n",
      "-8.682473334398995\n",
      "step:  3 optimize 3 2\n"
     ]
    },
    {
     "name": "stderr",
     "output_type": "stream",
     "text": [
      "C:\\Users\\FischerVicto\\PycharmProjects\\su2tn_playground\\su2tn\\algorithms\\lanczos_method.py:118: RuntimeWarning: beta[0] ~= 0 encountered during Lanczos iteration.\n",
      "  warnings.warn(\n"
     ]
    },
    {
     "name": "stdout",
     "output_type": "stream",
     "text": [
      "Eigenwerte:  [-8.68247333]\n",
      "-8.682473334398995\n",
      "step:  2 optimize 2 1\n"
     ]
    },
    {
     "name": "stderr",
     "output_type": "stream",
     "text": [
      "C:\\Users\\FischerVicto\\PycharmProjects\\su2tn_playground\\su2tn\\algorithms\\lanczos_method.py:118: RuntimeWarning: beta[0] ~= 0 encountered during Lanczos iteration.\n",
      "  warnings.warn(\n"
     ]
    },
    {
     "name": "stdout",
     "output_type": "stream",
     "text": [
      "Eigenwerte:  [-8.68247333]\n",
      "-8.682473334398999\n",
      "step:  1 optimize 1 0\n"
     ]
    },
    {
     "name": "stderr",
     "output_type": "stream",
     "text": [
      "C:\\Users\\FischerVicto\\PycharmProjects\\su2tn_playground\\su2tn\\algorithms\\lanczos_method.py:118: RuntimeWarning: beta[0] ~= 0 encountered during Lanczos iteration.\n",
      "  warnings.warn(\n",
      "C:\\Users\\FischerVicto\\PycharmProjects\\su2tn_playground\\su2tn\\algorithms\\lanczos_method.py:118: RuntimeWarning: beta[0] ~= 0 encountered during Lanczos iteration.\n",
      "  warnings.warn(\n"
     ]
    },
    {
     "name": "stdout",
     "output_type": "stream",
     "text": [
      "Eigenwerte:  [-8.68247333]\n",
      "-8.682473334399003\n",
      "sweep 4 completed, current energy: -8.682473334399003\n",
      "step:  0 optimize 0 1\n",
      "Eigenwerte:  [-8.68247333]\n",
      "-8.682473334398999\n",
      "step:  1 optimize 1 2\n"
     ]
    },
    {
     "name": "stderr",
     "output_type": "stream",
     "text": [
      "C:\\Users\\FischerVicto\\PycharmProjects\\su2tn_playground\\su2tn\\algorithms\\lanczos_method.py:118: RuntimeWarning: beta[0] ~= 0 encountered during Lanczos iteration.\n",
      "  warnings.warn(\n"
     ]
    },
    {
     "name": "stdout",
     "output_type": "stream",
     "text": [
      "Eigenwerte:  [-8.68247333]\n",
      "-8.682473334398999\n",
      "step:  2 optimize 2 3\n"
     ]
    },
    {
     "name": "stderr",
     "output_type": "stream",
     "text": [
      "C:\\Users\\FischerVicto\\PycharmProjects\\su2tn_playground\\su2tn\\algorithms\\lanczos_method.py:118: RuntimeWarning: beta[0] ~= 0 encountered during Lanczos iteration.\n",
      "  warnings.warn(\n"
     ]
    },
    {
     "name": "stdout",
     "output_type": "stream",
     "text": [
      "Eigenwerte:  [-8.68247333]\n",
      "-8.682473334398997\n",
      "step:  3 optimize 3 4\n"
     ]
    },
    {
     "name": "stderr",
     "output_type": "stream",
     "text": [
      "C:\\Users\\FischerVicto\\PycharmProjects\\su2tn_playground\\su2tn\\algorithms\\lanczos_method.py:118: RuntimeWarning: beta[0] ~= 0 encountered during Lanczos iteration.\n",
      "  warnings.warn(\n"
     ]
    },
    {
     "name": "stdout",
     "output_type": "stream",
     "text": [
      "Eigenwerte:  [-8.68247333]\n",
      "-8.682473334398995\n",
      "step:  4 optimize 4 5\n"
     ]
    },
    {
     "name": "stderr",
     "output_type": "stream",
     "text": [
      "C:\\Users\\FischerVicto\\PycharmProjects\\su2tn_playground\\su2tn\\algorithms\\lanczos_method.py:118: RuntimeWarning: beta[0] ~= 0 encountered during Lanczos iteration.\n",
      "  warnings.warn(\n"
     ]
    },
    {
     "name": "stdout",
     "output_type": "stream",
     "text": [
      "Eigenwerte:  [-8.68247333]\n",
      "-8.682473334398994\n",
      "step:  5 optimize 5 6\n"
     ]
    },
    {
     "name": "stderr",
     "output_type": "stream",
     "text": [
      "C:\\Users\\FischerVicto\\PycharmProjects\\su2tn_playground\\su2tn\\algorithms\\lanczos_method.py:118: RuntimeWarning: beta[0] ~= 0 encountered during Lanczos iteration.\n",
      "  warnings.warn(\n"
     ]
    },
    {
     "name": "stdout",
     "output_type": "stream",
     "text": [
      "Eigenwerte:  [-8.68247333]\n",
      "-8.682473334398999\n",
      "step:  6 optimize 6 7\n"
     ]
    },
    {
     "name": "stderr",
     "output_type": "stream",
     "text": [
      "C:\\Users\\FischerVicto\\PycharmProjects\\su2tn_playground\\su2tn\\algorithms\\lanczos_method.py:118: RuntimeWarning: beta[0] ~= 0 encountered during Lanczos iteration.\n",
      "  warnings.warn(\n"
     ]
    },
    {
     "name": "stdout",
     "output_type": "stream",
     "text": [
      "Eigenwerte:  [-8.68247333]\n",
      "-8.682473334399\n",
      "step:  7 optimize 7 8\n"
     ]
    },
    {
     "name": "stderr",
     "output_type": "stream",
     "text": [
      "C:\\Users\\FischerVicto\\PycharmProjects\\su2tn_playground\\su2tn\\algorithms\\lanczos_method.py:118: RuntimeWarning: beta[0] ~= 0 encountered during Lanczos iteration.\n",
      "  warnings.warn(\n"
     ]
    },
    {
     "name": "stdout",
     "output_type": "stream",
     "text": [
      "Eigenwerte:  [-8.68247333]\n",
      "-8.682473334398995\n",
      "step:  8 optimize 8 9\n"
     ]
    },
    {
     "name": "stderr",
     "output_type": "stream",
     "text": [
      "C:\\Users\\FischerVicto\\PycharmProjects\\su2tn_playground\\su2tn\\algorithms\\lanczos_method.py:118: RuntimeWarning: beta[0] ~= 0 encountered during Lanczos iteration.\n",
      "  warnings.warn(\n"
     ]
    },
    {
     "name": "stdout",
     "output_type": "stream",
     "text": [
      "Eigenwerte:  [-8.68247333]\n",
      "-8.682473334398985\n",
      "step:  9 optimize 9 10\n"
     ]
    },
    {
     "name": "stderr",
     "output_type": "stream",
     "text": [
      "C:\\Users\\FischerVicto\\PycharmProjects\\su2tn_playground\\su2tn\\algorithms\\lanczos_method.py:118: RuntimeWarning: beta[0] ~= 0 encountered during Lanczos iteration.\n",
      "  warnings.warn(\n"
     ]
    },
    {
     "name": "stdout",
     "output_type": "stream",
     "text": [
      "Eigenwerte:  [-8.68247333]\n",
      "-8.682473334398994\n",
      "step:  10 optimize 10 11\n"
     ]
    },
    {
     "name": "stderr",
     "output_type": "stream",
     "text": [
      "C:\\Users\\FischerVicto\\PycharmProjects\\su2tn_playground\\su2tn\\algorithms\\lanczos_method.py:118: RuntimeWarning: beta[0] ~= 0 encountered during Lanczos iteration.\n",
      "  warnings.warn(\n"
     ]
    },
    {
     "name": "stdout",
     "output_type": "stream",
     "text": [
      "Eigenwerte:  [-8.68247333]\n",
      "-8.682473334398999\n",
      "step:  11 optimize 11 12\n"
     ]
    },
    {
     "name": "stderr",
     "output_type": "stream",
     "text": [
      "C:\\Users\\FischerVicto\\PycharmProjects\\su2tn_playground\\su2tn\\algorithms\\lanczos_method.py:118: RuntimeWarning: beta[0] ~= 0 encountered during Lanczos iteration.\n",
      "  warnings.warn(\n"
     ]
    },
    {
     "name": "stdout",
     "output_type": "stream",
     "text": [
      "Eigenwerte:  [-8.68247333]\n",
      "-8.682473334398985\n",
      "step:  12 optimize 12 13\n"
     ]
    },
    {
     "name": "stderr",
     "output_type": "stream",
     "text": [
      "C:\\Users\\FischerVicto\\PycharmProjects\\su2tn_playground\\su2tn\\algorithms\\lanczos_method.py:118: RuntimeWarning: beta[0] ~= 0 encountered during Lanczos iteration.\n",
      "  warnings.warn(\n"
     ]
    },
    {
     "name": "stdout",
     "output_type": "stream",
     "text": [
      "Eigenwerte:  [-8.68247333]\n",
      "-8.682473334398985\n",
      "step:  13 optimize 13 14\n"
     ]
    },
    {
     "name": "stderr",
     "output_type": "stream",
     "text": [
      "C:\\Users\\FischerVicto\\PycharmProjects\\su2tn_playground\\su2tn\\algorithms\\lanczos_method.py:118: RuntimeWarning: beta[0] ~= 0 encountered during Lanczos iteration.\n",
      "  warnings.warn(\n"
     ]
    },
    {
     "name": "stdout",
     "output_type": "stream",
     "text": [
      "Eigenwerte:  [-8.68247333]\n",
      "-8.682473334398976\n",
      "step:  14 optimize 14 15\n"
     ]
    },
    {
     "name": "stderr",
     "output_type": "stream",
     "text": [
      "C:\\Users\\FischerVicto\\PycharmProjects\\su2tn_playground\\su2tn\\algorithms\\lanczos_method.py:118: RuntimeWarning: beta[0] ~= 0 encountered during Lanczos iteration.\n",
      "  warnings.warn(\n"
     ]
    },
    {
     "name": "stdout",
     "output_type": "stream",
     "text": [
      "Eigenwerte:  [-8.68247333]\n",
      "-8.682473334398969\n",
      "step:  15 optimize 15 16\n"
     ]
    },
    {
     "name": "stderr",
     "output_type": "stream",
     "text": [
      "C:\\Users\\FischerVicto\\PycharmProjects\\su2tn_playground\\su2tn\\algorithms\\lanczos_method.py:118: RuntimeWarning: beta[0] ~= 0 encountered during Lanczos iteration.\n",
      "  warnings.warn(\n"
     ]
    },
    {
     "name": "stdout",
     "output_type": "stream",
     "text": [
      "Eigenwerte:  [-8.68247333]\n",
      "-8.682473334398978\n",
      "step:  16 optimize 16 17\n"
     ]
    },
    {
     "name": "stderr",
     "output_type": "stream",
     "text": [
      "C:\\Users\\FischerVicto\\PycharmProjects\\su2tn_playground\\su2tn\\algorithms\\lanczos_method.py:118: RuntimeWarning: beta[0] ~= 0 encountered during Lanczos iteration.\n",
      "  warnings.warn(\n"
     ]
    },
    {
     "name": "stdout",
     "output_type": "stream",
     "text": [
      "Eigenwerte:  [-8.68247333]\n",
      "-8.682473334398969\n",
      "step:  17 optimize 17 18\n"
     ]
    },
    {
     "name": "stderr",
     "output_type": "stream",
     "text": [
      "C:\\Users\\FischerVicto\\PycharmProjects\\su2tn_playground\\su2tn\\algorithms\\lanczos_method.py:118: RuntimeWarning: beta[0] ~= 0 encountered during Lanczos iteration.\n",
      "  warnings.warn(\n"
     ]
    },
    {
     "name": "stdout",
     "output_type": "stream",
     "text": [
      "Eigenwerte:  [-8.68247333]\n",
      "-8.682473334398958\n",
      "step:  18 optimize 18 19\n"
     ]
    },
    {
     "name": "stderr",
     "output_type": "stream",
     "text": [
      "C:\\Users\\FischerVicto\\PycharmProjects\\su2tn_playground\\su2tn\\algorithms\\lanczos_method.py:118: RuntimeWarning: beta[0] ~= 0 encountered during Lanczos iteration.\n",
      "  warnings.warn(\n"
     ]
    },
    {
     "name": "stdout",
     "output_type": "stream",
     "text": [
      "Eigenwerte:  [-8.68247333]\n",
      "-8.682473334398962\n",
      "step:  19 optimize 19 18\n"
     ]
    },
    {
     "name": "stderr",
     "output_type": "stream",
     "text": [
      "C:\\Users\\FischerVicto\\PycharmProjects\\su2tn_playground\\su2tn\\algorithms\\lanczos_method.py:118: RuntimeWarning: beta[0] ~= 0 encountered during Lanczos iteration.\n",
      "  warnings.warn(\n"
     ]
    },
    {
     "name": "stdout",
     "output_type": "stream",
     "text": [
      "Eigenwerte:  [-8.68247333]\n",
      "-8.68247333439896\n",
      "step:  18 optimize 18 17\n"
     ]
    },
    {
     "name": "stderr",
     "output_type": "stream",
     "text": [
      "C:\\Users\\FischerVicto\\PycharmProjects\\su2tn_playground\\su2tn\\algorithms\\lanczos_method.py:118: RuntimeWarning: beta[0] ~= 0 encountered during Lanczos iteration.\n",
      "  warnings.warn(\n"
     ]
    },
    {
     "name": "stdout",
     "output_type": "stream",
     "text": [
      "Eigenwerte:  [-8.68247333]\n",
      "-8.682473334398956\n",
      "step:  17 optimize 17 16\n"
     ]
    },
    {
     "name": "stderr",
     "output_type": "stream",
     "text": [
      "C:\\Users\\FischerVicto\\PycharmProjects\\su2tn_playground\\su2tn\\algorithms\\lanczos_method.py:118: RuntimeWarning: beta[0] ~= 0 encountered during Lanczos iteration.\n",
      "  warnings.warn(\n"
     ]
    },
    {
     "name": "stdout",
     "output_type": "stream",
     "text": [
      "Eigenwerte:  [-8.68247333]\n",
      "-8.682473334398969\n",
      "step:  16 optimize 16 15\n"
     ]
    },
    {
     "name": "stderr",
     "output_type": "stream",
     "text": [
      "C:\\Users\\FischerVicto\\PycharmProjects\\su2tn_playground\\su2tn\\algorithms\\lanczos_method.py:118: RuntimeWarning: beta[0] ~= 0 encountered during Lanczos iteration.\n",
      "  warnings.warn(\n"
     ]
    },
    {
     "name": "stdout",
     "output_type": "stream",
     "text": [
      "Eigenwerte:  [-8.68247333]\n",
      "-8.68247333439897\n",
      "step:  15 optimize 15 14\n"
     ]
    },
    {
     "name": "stderr",
     "output_type": "stream",
     "text": [
      "C:\\Users\\FischerVicto\\PycharmProjects\\su2tn_playground\\su2tn\\algorithms\\lanczos_method.py:118: RuntimeWarning: beta[0] ~= 0 encountered during Lanczos iteration.\n",
      "  warnings.warn(\n"
     ]
    },
    {
     "name": "stdout",
     "output_type": "stream",
     "text": [
      "Eigenwerte:  [-8.68247333]\n",
      "-8.682473334398972\n",
      "step:  14 optimize 14 13\n"
     ]
    },
    {
     "name": "stderr",
     "output_type": "stream",
     "text": [
      "C:\\Users\\FischerVicto\\PycharmProjects\\su2tn_playground\\su2tn\\algorithms\\lanczos_method.py:118: RuntimeWarning: beta[0] ~= 0 encountered during Lanczos iteration.\n",
      "  warnings.warn(\n"
     ]
    },
    {
     "name": "stdout",
     "output_type": "stream",
     "text": [
      "Eigenwerte:  [-8.68247333]\n",
      "-8.68247333439897\n",
      "step:  13 optimize 13 12\n"
     ]
    },
    {
     "name": "stderr",
     "output_type": "stream",
     "text": [
      "C:\\Users\\FischerVicto\\PycharmProjects\\su2tn_playground\\su2tn\\algorithms\\lanczos_method.py:118: RuntimeWarning: beta[0] ~= 0 encountered during Lanczos iteration.\n",
      "  warnings.warn(\n"
     ]
    },
    {
     "name": "stdout",
     "output_type": "stream",
     "text": [
      "Eigenwerte:  [-8.68247333]\n",
      "-8.682473334398983\n",
      "step:  12 optimize 12 11\n"
     ]
    },
    {
     "name": "stderr",
     "output_type": "stream",
     "text": [
      "C:\\Users\\FischerVicto\\PycharmProjects\\su2tn_playground\\su2tn\\algorithms\\lanczos_method.py:118: RuntimeWarning: beta[0] ~= 0 encountered during Lanczos iteration.\n",
      "  warnings.warn(\n"
     ]
    },
    {
     "name": "stdout",
     "output_type": "stream",
     "text": [
      "Eigenwerte:  [-8.68247333]\n",
      "-8.682473334398988\n",
      "step:  11 optimize 11 10\n"
     ]
    },
    {
     "name": "stderr",
     "output_type": "stream",
     "text": [
      "C:\\Users\\FischerVicto\\PycharmProjects\\su2tn_playground\\su2tn\\algorithms\\lanczos_method.py:118: RuntimeWarning: beta[0] ~= 0 encountered during Lanczos iteration.\n",
      "  warnings.warn(\n"
     ]
    },
    {
     "name": "stdout",
     "output_type": "stream",
     "text": [
      "Eigenwerte:  [-8.68247333]\n",
      "-8.682473334398997\n",
      "step:  10 optimize 10 9\n"
     ]
    },
    {
     "name": "stderr",
     "output_type": "stream",
     "text": [
      "C:\\Users\\FischerVicto\\PycharmProjects\\su2tn_playground\\su2tn\\algorithms\\lanczos_method.py:118: RuntimeWarning: beta[0] ~= 0 encountered during Lanczos iteration.\n",
      "  warnings.warn(\n"
     ]
    },
    {
     "name": "stdout",
     "output_type": "stream",
     "text": [
      "Eigenwerte:  [-8.68247333]\n",
      "-8.682473334398997\n",
      "step:  9 optimize 9 8\n"
     ]
    },
    {
     "name": "stderr",
     "output_type": "stream",
     "text": [
      "C:\\Users\\FischerVicto\\PycharmProjects\\su2tn_playground\\su2tn\\algorithms\\lanczos_method.py:118: RuntimeWarning: beta[0] ~= 0 encountered during Lanczos iteration.\n",
      "  warnings.warn(\n"
     ]
    },
    {
     "name": "stdout",
     "output_type": "stream",
     "text": [
      "Eigenwerte:  [-8.68247333]\n",
      "-8.682473334398988\n",
      "step:  8 optimize 8 7\n"
     ]
    },
    {
     "name": "stderr",
     "output_type": "stream",
     "text": [
      "C:\\Users\\FischerVicto\\PycharmProjects\\su2tn_playground\\su2tn\\algorithms\\lanczos_method.py:118: RuntimeWarning: beta[0] ~= 0 encountered during Lanczos iteration.\n",
      "  warnings.warn(\n"
     ]
    },
    {
     "name": "stdout",
     "output_type": "stream",
     "text": [
      "Eigenwerte:  [-8.68247333]\n",
      "-8.682473334398992\n",
      "step:  7 optimize 7 6\n"
     ]
    },
    {
     "name": "stderr",
     "output_type": "stream",
     "text": [
      "C:\\Users\\FischerVicto\\PycharmProjects\\su2tn_playground\\su2tn\\algorithms\\lanczos_method.py:118: RuntimeWarning: beta[0] ~= 0 encountered during Lanczos iteration.\n",
      "  warnings.warn(\n"
     ]
    },
    {
     "name": "stdout",
     "output_type": "stream",
     "text": [
      "Eigenwerte:  [-8.68247333]\n",
      "-8.682473334398994\n",
      "step:  6 optimize 6 5\n"
     ]
    },
    {
     "name": "stderr",
     "output_type": "stream",
     "text": [
      "C:\\Users\\FischerVicto\\PycharmProjects\\su2tn_playground\\su2tn\\algorithms\\lanczos_method.py:118: RuntimeWarning: beta[0] ~= 0 encountered during Lanczos iteration.\n",
      "  warnings.warn(\n"
     ]
    },
    {
     "name": "stdout",
     "output_type": "stream",
     "text": [
      "Eigenwerte:  [-8.68247333]\n",
      "-8.682473334398985\n",
      "step:  5 optimize 5 4\n"
     ]
    },
    {
     "name": "stderr",
     "output_type": "stream",
     "text": [
      "C:\\Users\\FischerVicto\\PycharmProjects\\su2tn_playground\\su2tn\\algorithms\\lanczos_method.py:118: RuntimeWarning: beta[0] ~= 0 encountered during Lanczos iteration.\n",
      "  warnings.warn(\n"
     ]
    },
    {
     "name": "stdout",
     "output_type": "stream",
     "text": [
      "Eigenwerte:  [-8.68247333]\n",
      "-8.68247333439898\n",
      "step:  4 optimize 4 3\n"
     ]
    },
    {
     "name": "stderr",
     "output_type": "stream",
     "text": [
      "C:\\Users\\FischerVicto\\PycharmProjects\\su2tn_playground\\su2tn\\algorithms\\lanczos_method.py:118: RuntimeWarning: beta[0] ~= 0 encountered during Lanczos iteration.\n",
      "  warnings.warn(\n"
     ]
    },
    {
     "name": "stdout",
     "output_type": "stream",
     "text": [
      "Eigenwerte:  [-8.68247333]\n",
      "-8.682473334398981\n",
      "step:  3 optimize 3 2\n"
     ]
    },
    {
     "name": "stderr",
     "output_type": "stream",
     "text": [
      "C:\\Users\\FischerVicto\\PycharmProjects\\su2tn_playground\\su2tn\\algorithms\\lanczos_method.py:118: RuntimeWarning: beta[0] ~= 0 encountered during Lanczos iteration.\n",
      "  warnings.warn(\n"
     ]
    },
    {
     "name": "stdout",
     "output_type": "stream",
     "text": [
      "Eigenwerte:  [-8.68247333]\n",
      "-8.682473334398985\n",
      "step:  2 optimize 2 1\n"
     ]
    },
    {
     "name": "stderr",
     "output_type": "stream",
     "text": [
      "C:\\Users\\FischerVicto\\PycharmProjects\\su2tn_playground\\su2tn\\algorithms\\lanczos_method.py:118: RuntimeWarning: beta[0] ~= 0 encountered during Lanczos iteration.\n",
      "  warnings.warn(\n"
     ]
    },
    {
     "name": "stdout",
     "output_type": "stream",
     "text": [
      "Eigenwerte:  [-8.68247333]\n",
      "-8.682473334398981\n",
      "step:  1 optimize 1 0\n",
      "Eigenwerte:  [-8.68247333]\n",
      "-8.682473334398988\n",
      "sweep 5 completed, current energy: -8.682473334398988\n"
     ]
    },
    {
     "name": "stderr",
     "output_type": "stream",
     "text": [
      "C:\\Users\\FischerVicto\\PycharmProjects\\su2tn_playground\\su2tn\\algorithms\\lanczos_method.py:118: RuntimeWarning: beta[0] ~= 0 encountered during Lanczos iteration.\n",
      "  warnings.warn(\n"
     ]
    }
   ],
   "source": [
    "runtime = time.time()\n",
    "en = two_site_dmrg(H=H, psi=initialMPS, numsweeps=numsweeps, lanczos_numiter=lanczos_numiter, tol=tol, abort_condition = abort_condition, return_initial_energy=False)\n",
    "runtime = time.time() - runtime"
   ]
  },
  {
   "cell_type": "code",
   "execution_count": 26,
   "id": "3b6a046b-27e6-48a7-9804-861847f290da",
   "metadata": {},
   "outputs": [],
   "source": [
    "# plt.plot(range(len(np.array(en[2]).flatten())), np.array(en[2]).flatten())\n",
    "# reference = -8.68247333439895\n",
    "# print(en[2][-1][-1])\n",
    "# -8.682280751272437"
   ]
  },
  {
   "cell_type": "code",
   "execution_count": 27,
   "id": "632a7ba1-c4f8-4c11-a4f6-30430be89613",
   "metadata": {},
   "outputs": [],
   "source": [
    "# df = pd.read_csv(f'Results/Results_SU(2)_TwoSite')\n",
    "\n",
    "# columns = ['n_sites', 'n_lanczos', 'tol', 'abort', 'number_steps', \n",
    "#            'energy', 'runtime', 'initial_paras', 'post_opt_paras']\n",
    "# data = [[n_sites, lanczos_numiter, tol, abort_condition, len(np.array(en[2]).flatten()), \n",
    "#         float(en[2][-1][-1]), runtime, initial_total_paras, total_paras]]\n",
    "\n",
    "# add_df = pd.DataFrame(data=data, columns= columns)\n",
    "# df = pd.concat([df, add_df], ignore_index=True)\n",
    "# df.to_csv(f'Results/Results_SU(2)_TwoSite')\n",
    "\n",
    "\n",
    "# add_df.to_csv(f'Results/Results_N={n_sites}_sweeps={numsweeps}')\n",
    "# df = pd.DataFrame()\n",
    "# df.to_csv(f'Results/Results_SU(2)_TwoSite')"
   ]
  },
  {
   "cell_type": "code",
   "execution_count": 28,
   "id": "a7baf6fe-ea8b-432f-bdc1-09982856709a",
   "metadata": {},
   "outputs": [
    {
     "data": {
      "text/plain": [
       "47426"
      ]
     },
     "execution_count": 28,
     "metadata": {},
     "output_type": "execute_result"
    }
   ],
   "source": [
    "total_paras = 0\n",
    "total_cs = 0\n",
    "for mps in initialMPS.A:\n",
    "    # print('n_cs', len(mps.listOfChargeSectors))\n",
    "    total_cs += len(mps.listOfChargeSectors)\n",
    "    for deg in mps.listOfDegeneracyTensors:\n",
    "        # print(deg.shape)\n",
    "        \n",
    "        total_paras += deg.size\n",
    "total_paras"
   ]
  },
  {
   "cell_type": "code",
   "execution_count": 29,
   "id": "44368f2d-ca01-4cd7-8cd1-ac106e8e6a08",
   "metadata": {},
   "outputs": [
    {
     "data": {
      "text/plain": [
       "360.88000679016113"
      ]
     },
     "execution_count": 29,
     "metadata": {},
     "output_type": "execute_result"
    }
   ],
   "source": [
    "runtime"
   ]
  },
  {
   "cell_type": "code",
   "execution_count": 30,
   "id": "f667cff0-1de9-477f-87db-bd281b81d0f9",
   "metadata": {},
   "outputs": [
    {
     "data": {
      "text/plain": [
       "2796200.0"
      ]
     },
     "execution_count": 30,
     "metadata": {},
     "output_type": "execute_result"
    }
   ],
   "source": [
    "full_total_paras = 0\n",
    "for mps in initialMPS.A:\n",
    "    for openEdge in mps.listOfOpenEdges:\n",
    "        # print(openEdge)\n",
    "        if openEdge['edgeName'] == -2:\n",
    "            dim2 = 0\n",
    "            for (j, dj) in openEdge['edgeIrreps']:\n",
    "                dim2 += (2*j+1) * dj\n",
    "        elif openEdge['edgeName'] == -3:\n",
    "            dim3 = 0\n",
    "            for (j, dj) in openEdge['edgeIrreps']:\n",
    "                dim3 += (2*j+1) * dj\n",
    "    dim1 = 2\n",
    "    totaldims = dim1 * dim2 * dim3\n",
    "    # print(totaldims)\n",
    "    full_total_paras += totaldims\n",
    "full_total_paras"
   ]
  },
  {
   "cell_type": "code",
   "execution_count": 31,
   "id": "8f6d60e2-bf16-45e5-b197-0f178080df7b",
   "metadata": {},
   "outputs": [
    {
     "data": {
      "text/plain": [
       "12.747548783981962"
      ]
     },
     "execution_count": 31,
     "metadata": {},
     "output_type": "execute_result"
    }
   ],
   "source": [
    "s = 24\n",
    "np.sqrt(1/2 * (s/2 + 1) * 5**2)"
   ]
  },
  {
   "cell_type": "code",
   "execution_count": 32,
   "id": "09591279-2260-4db9-ab92-3c9aa36eedf0",
   "metadata": {},
   "outputs": [
    {
     "name": "stderr",
     "output_type": "stream",
     "text": [
      "C:\\Users\\FischerVicto\\AppData\\Local\\Temp\\ipykernel_17744\\801474939.py:9: FutureWarning: The behavior of DataFrame concatenation with empty or all-NA entries is deprecated. In a future version, this will no longer exclude empty or all-NA columns when determining the result dtypes. To retain the old behavior, exclude the relevant entries before the concat operation.\n",
      "  df = pd.concat([df, add_df], ignore_index=True)\n"
     ]
    }
   ],
   "source": [
    "df = pd.read_csv(f'Results/Results_SU(2)_TwoSite_v2', index_col=[0])\n",
    "\n",
    "columns = ['n_sites', 'n_lanczos', 'tol', 'abort', 'number_steps', \n",
    "           'energy', 'runtime', 'initial_paras', 'post_opt_paras', 'full_tensor_paras']\n",
    "data = [[n_sites, lanczos_numiter, tol, abort_condition, len(np.array(en[2]).flatten()), \n",
    "        float(en[2][-1][-1]), runtime, initial_total_paras, total_paras, full_total_paras]]\n",
    "\n",
    "add_df = pd.DataFrame(data=data, columns= columns)\n",
    "df = pd.concat([df, add_df], ignore_index=True)\n",
    "df.to_csv(f'Results/Results_SU(2)_TwoSite_v2')"
   ]
  },
  {
   "cell_type": "code",
   "execution_count": 33,
   "id": "760c1c51-9046-4962-b904-6b9fdf774c9f",
   "metadata": {},
   "outputs": [
    {
     "data": {
      "text/html": [
       "<div>\n",
       "<style scoped>\n",
       "    .dataframe tbody tr th:only-of-type {\n",
       "        vertical-align: middle;\n",
       "    }\n",
       "\n",
       "    .dataframe tbody tr th {\n",
       "        vertical-align: top;\n",
       "    }\n",
       "\n",
       "    .dataframe thead th {\n",
       "        text-align: right;\n",
       "    }\n",
       "</style>\n",
       "<table border=\"1\" class=\"dataframe\">\n",
       "  <thead>\n",
       "    <tr style=\"text-align: right;\">\n",
       "      <th></th>\n",
       "      <th>n_sites</th>\n",
       "      <th>n_lanczos</th>\n",
       "      <th>tol</th>\n",
       "      <th>abort</th>\n",
       "      <th>number_steps</th>\n",
       "      <th>energy</th>\n",
       "      <th>runtime</th>\n",
       "      <th>initial_paras</th>\n",
       "      <th>post_opt_paras</th>\n",
       "      <th>full_tensor_paras</th>\n",
       "    </tr>\n",
       "  </thead>\n",
       "  <tbody>\n",
       "    <tr>\n",
       "      <th>0</th>\n",
       "      <td>40</td>\n",
       "      <td>5</td>\n",
       "      <td>1.000000e-08</td>\n",
       "      <td>0.0001</td>\n",
       "      <td>156</td>\n",
       "      <td>-17.541472</td>\n",
       "      <td>1291.862945</td>\n",
       "      <td>10410</td>\n",
       "      <td>2809</td>\n",
       "      <td>62620.0</td>\n",
       "    </tr>\n",
       "    <tr>\n",
       "      <th>1</th>\n",
       "      <td>36</td>\n",
       "      <td>5</td>\n",
       "      <td>1.000000e-08</td>\n",
       "      <td>0.0001</td>\n",
       "      <td>140</td>\n",
       "      <td>-15.769340</td>\n",
       "      <td>1038.445232</td>\n",
       "      <td>8460</td>\n",
       "      <td>2190</td>\n",
       "      <td>47520.0</td>\n",
       "    </tr>\n",
       "    <tr>\n",
       "      <th>2</th>\n",
       "      <td>32</td>\n",
       "      <td>5</td>\n",
       "      <td>1.000000e-08</td>\n",
       "      <td>0.0001</td>\n",
       "      <td>124</td>\n",
       "      <td>-13.997315</td>\n",
       "      <td>788.352591</td>\n",
       "      <td>6710</td>\n",
       "      <td>1709</td>\n",
       "      <td>35060.0</td>\n",
       "    </tr>\n",
       "    <tr>\n",
       "      <th>3</th>\n",
       "      <td>28</td>\n",
       "      <td>5</td>\n",
       "      <td>1.000000e-08</td>\n",
       "      <td>0.0001</td>\n",
       "      <td>108</td>\n",
       "      <td>-12.225440</td>\n",
       "      <td>581.388660</td>\n",
       "      <td>5160</td>\n",
       "      <td>1370</td>\n",
       "      <td>27392.0</td>\n",
       "    </tr>\n",
       "    <tr>\n",
       "      <th>4</th>\n",
       "      <td>24</td>\n",
       "      <td>5</td>\n",
       "      <td>1.000000e-08</td>\n",
       "      <td>0.0001</td>\n",
       "      <td>92</td>\n",
       "      <td>-10.453785</td>\n",
       "      <td>424.168495</td>\n",
       "      <td>3810</td>\n",
       "      <td>984</td>\n",
       "      <td>18512.0</td>\n",
       "    </tr>\n",
       "    <tr>\n",
       "      <th>5</th>\n",
       "      <td>20</td>\n",
       "      <td>5</td>\n",
       "      <td>1.000000e-08</td>\n",
       "      <td>0.0001</td>\n",
       "      <td>76</td>\n",
       "      <td>-8.682473</td>\n",
       "      <td>277.002241</td>\n",
       "      <td>2660</td>\n",
       "      <td>594</td>\n",
       "      <td>10472.0</td>\n",
       "    </tr>\n",
       "    <tr>\n",
       "      <th>6</th>\n",
       "      <td>16</td>\n",
       "      <td>5</td>\n",
       "      <td>1.000000e-08</td>\n",
       "      <td>0.0001</td>\n",
       "      <td>60</td>\n",
       "      <td>-6.911737</td>\n",
       "      <td>169.633176</td>\n",
       "      <td>1710</td>\n",
       "      <td>332</td>\n",
       "      <td>6040.0</td>\n",
       "    </tr>\n",
       "    <tr>\n",
       "      <th>7</th>\n",
       "      <td>12</td>\n",
       "      <td>5</td>\n",
       "      <td>1.000000e-08</td>\n",
       "      <td>0.0001</td>\n",
       "      <td>44</td>\n",
       "      <td>-5.142091</td>\n",
       "      <td>86.729885</td>\n",
       "      <td>960</td>\n",
       "      <td>168</td>\n",
       "      <td>2920.0</td>\n",
       "    </tr>\n",
       "    <tr>\n",
       "      <th>8</th>\n",
       "      <td>8</td>\n",
       "      <td>5</td>\n",
       "      <td>1.000000e-08</td>\n",
       "      <td>0.0001</td>\n",
       "      <td>28</td>\n",
       "      <td>-3.374933</td>\n",
       "      <td>23.148389</td>\n",
       "      <td>150</td>\n",
       "      <td>44</td>\n",
       "      <td>680.0</td>\n",
       "    </tr>\n",
       "    <tr>\n",
       "      <th>9</th>\n",
       "      <td>4</td>\n",
       "      <td>5</td>\n",
       "      <td>1.000000e-08</td>\n",
       "      <td>0.0001</td>\n",
       "      <td>12</td>\n",
       "      <td>-1.616025</td>\n",
       "      <td>3.967477</td>\n",
       "      <td>24</td>\n",
       "      <td>6</td>\n",
       "      <td>40.0</td>\n",
       "    </tr>\n",
       "    <tr>\n",
       "      <th>10</th>\n",
       "      <td>20</td>\n",
       "      <td>5</td>\n",
       "      <td>1.000000e-18</td>\n",
       "      <td>NaN</td>\n",
       "      <td>190</td>\n",
       "      <td>-8.682473</td>\n",
       "      <td>345.939495</td>\n",
       "      <td>2660</td>\n",
       "      <td>7804</td>\n",
       "      <td>400244.0</td>\n",
       "    </tr>\n",
       "    <tr>\n",
       "      <th>11</th>\n",
       "      <td>20</td>\n",
       "      <td>5</td>\n",
       "      <td>0.000000e+00</td>\n",
       "      <td>NaN</td>\n",
       "      <td>190</td>\n",
       "      <td>-8.682473</td>\n",
       "      <td>360.880007</td>\n",
       "      <td>3828</td>\n",
       "      <td>47426</td>\n",
       "      <td>2796200.0</td>\n",
       "    </tr>\n",
       "  </tbody>\n",
       "</table>\n",
       "</div>"
      ],
      "text/plain": [
       "    n_sites  n_lanczos           tol   abort  number_steps     energy  \\\n",
       "0        40          5  1.000000e-08  0.0001           156 -17.541472   \n",
       "1        36          5  1.000000e-08  0.0001           140 -15.769340   \n",
       "2        32          5  1.000000e-08  0.0001           124 -13.997315   \n",
       "3        28          5  1.000000e-08  0.0001           108 -12.225440   \n",
       "4        24          5  1.000000e-08  0.0001            92 -10.453785   \n",
       "5        20          5  1.000000e-08  0.0001            76  -8.682473   \n",
       "6        16          5  1.000000e-08  0.0001            60  -6.911737   \n",
       "7        12          5  1.000000e-08  0.0001            44  -5.142091   \n",
       "8         8          5  1.000000e-08  0.0001            28  -3.374933   \n",
       "9         4          5  1.000000e-08  0.0001            12  -1.616025   \n",
       "10       20          5  1.000000e-18     NaN           190  -8.682473   \n",
       "11       20          5  0.000000e+00     NaN           190  -8.682473   \n",
       "\n",
       "        runtime  initial_paras  post_opt_paras  full_tensor_paras  \n",
       "0   1291.862945          10410            2809            62620.0  \n",
       "1   1038.445232           8460            2190            47520.0  \n",
       "2    788.352591           6710            1709            35060.0  \n",
       "3    581.388660           5160            1370            27392.0  \n",
       "4    424.168495           3810             984            18512.0  \n",
       "5    277.002241           2660             594            10472.0  \n",
       "6    169.633176           1710             332             6040.0  \n",
       "7     86.729885            960             168             2920.0  \n",
       "8     23.148389            150              44              680.0  \n",
       "9      3.967477             24               6               40.0  \n",
       "10   345.939495           2660            7804           400244.0  \n",
       "11   360.880007           3828           47426          2796200.0  "
      ]
     },
     "execution_count": 33,
     "metadata": {},
     "output_type": "execute_result"
    }
   ],
   "source": [
    "df = pd.read_csv(f'Results/Results_SU(2)_TwoSite_v2', index_col=[0])\n",
    "df"
   ]
  },
  {
   "cell_type": "code",
   "execution_count": 34,
   "id": "2a960ec7-95d8-482a-a649-7d8d87cf7157",
   "metadata": {},
   "outputs": [
    {
     "data": {
      "text/html": [
       "<div>\n",
       "<style scoped>\n",
       "    .dataframe tbody tr th:only-of-type {\n",
       "        vertical-align: middle;\n",
       "    }\n",
       "\n",
       "    .dataframe tbody tr th {\n",
       "        vertical-align: top;\n",
       "    }\n",
       "\n",
       "    .dataframe thead th {\n",
       "        text-align: right;\n",
       "    }\n",
       "</style>\n",
       "<table border=\"1\" class=\"dataframe\">\n",
       "  <thead>\n",
       "    <tr style=\"text-align: right;\">\n",
       "      <th></th>\n",
       "      <th>n_sites</th>\n",
       "      <th>n_lanczos</th>\n",
       "      <th>tol</th>\n",
       "      <th>abort</th>\n",
       "      <th>number_steps</th>\n",
       "      <th>energy</th>\n",
       "      <th>runtime</th>\n",
       "      <th>initial_paras</th>\n",
       "      <th>post_opt_paras</th>\n",
       "    </tr>\n",
       "  </thead>\n",
       "  <tbody>\n",
       "    <tr>\n",
       "      <th>0</th>\n",
       "      <td>24</td>\n",
       "      <td>5</td>\n",
       "      <td>1.000000e-06</td>\n",
       "      <td>0.0010</td>\n",
       "      <td>92</td>\n",
       "      <td>-10.453495</td>\n",
       "      <td>422.876993</td>\n",
       "      <td>6000</td>\n",
       "      <td>316</td>\n",
       "    </tr>\n",
       "    <tr>\n",
       "      <th>1</th>\n",
       "      <td>28</td>\n",
       "      <td>5</td>\n",
       "      <td>1.000000e-06</td>\n",
       "      <td>0.0010</td>\n",
       "      <td>108</td>\n",
       "      <td>-12.224958</td>\n",
       "      <td>579.223630</td>\n",
       "      <td>5160</td>\n",
       "      <td>388</td>\n",
       "    </tr>\n",
       "    <tr>\n",
       "      <th>2</th>\n",
       "      <td>28</td>\n",
       "      <td>5</td>\n",
       "      <td>1.000000e-08</td>\n",
       "      <td>0.0001</td>\n",
       "      <td>108</td>\n",
       "      <td>-12.225440</td>\n",
       "      <td>616.237162</td>\n",
       "      <td>3304</td>\n",
       "      <td>1370</td>\n",
       "    </tr>\n",
       "    <tr>\n",
       "      <th>3</th>\n",
       "      <td>24</td>\n",
       "      <td>5</td>\n",
       "      <td>1.000000e-08</td>\n",
       "      <td>0.0001</td>\n",
       "      <td>92</td>\n",
       "      <td>-10.453785</td>\n",
       "      <td>439.493222</td>\n",
       "      <td>2440</td>\n",
       "      <td>984</td>\n",
       "    </tr>\n",
       "    <tr>\n",
       "      <th>4</th>\n",
       "      <td>20</td>\n",
       "      <td>5</td>\n",
       "      <td>1.000000e-08</td>\n",
       "      <td>0.0001</td>\n",
       "      <td>76</td>\n",
       "      <td>-8.682473</td>\n",
       "      <td>293.711593</td>\n",
       "      <td>1704</td>\n",
       "      <td>594</td>\n",
       "    </tr>\n",
       "    <tr>\n",
       "      <th>5</th>\n",
       "      <td>16</td>\n",
       "      <td>5</td>\n",
       "      <td>1.000000e-08</td>\n",
       "      <td>0.0001</td>\n",
       "      <td>60</td>\n",
       "      <td>-6.911737</td>\n",
       "      <td>176.042640</td>\n",
       "      <td>1096</td>\n",
       "      <td>332</td>\n",
       "    </tr>\n",
       "    <tr>\n",
       "      <th>6</th>\n",
       "      <td>12</td>\n",
       "      <td>5</td>\n",
       "      <td>1.000000e-08</td>\n",
       "      <td>0.0001</td>\n",
       "      <td>44</td>\n",
       "      <td>-5.142091</td>\n",
       "      <td>88.781992</td>\n",
       "      <td>960</td>\n",
       "      <td>168</td>\n",
       "    </tr>\n",
       "    <tr>\n",
       "      <th>7</th>\n",
       "      <td>16</td>\n",
       "      <td>5</td>\n",
       "      <td>1.000000e-08</td>\n",
       "      <td>0.0001</td>\n",
       "      <td>60</td>\n",
       "      <td>-6.911737</td>\n",
       "      <td>172.732468</td>\n",
       "      <td>1710</td>\n",
       "      <td>332</td>\n",
       "    </tr>\n",
       "    <tr>\n",
       "      <th>8</th>\n",
       "      <td>20</td>\n",
       "      <td>5</td>\n",
       "      <td>1.000000e-08</td>\n",
       "      <td>0.0001</td>\n",
       "      <td>76</td>\n",
       "      <td>-8.682473</td>\n",
       "      <td>302.053947</td>\n",
       "      <td>2660</td>\n",
       "      <td>594</td>\n",
       "    </tr>\n",
       "    <tr>\n",
       "      <th>9</th>\n",
       "      <td>24</td>\n",
       "      <td>5</td>\n",
       "      <td>1.000000e-08</td>\n",
       "      <td>0.0001</td>\n",
       "      <td>92</td>\n",
       "      <td>-10.453785</td>\n",
       "      <td>449.384270</td>\n",
       "      <td>3810</td>\n",
       "      <td>984</td>\n",
       "    </tr>\n",
       "    <tr>\n",
       "      <th>10</th>\n",
       "      <td>28</td>\n",
       "      <td>5</td>\n",
       "      <td>1.000000e-08</td>\n",
       "      <td>0.0001</td>\n",
       "      <td>108</td>\n",
       "      <td>-12.225440</td>\n",
       "      <td>625.955444</td>\n",
       "      <td>5160</td>\n",
       "      <td>1370</td>\n",
       "    </tr>\n",
       "    <tr>\n",
       "      <th>11</th>\n",
       "      <td>32</td>\n",
       "      <td>5</td>\n",
       "      <td>1.000000e-08</td>\n",
       "      <td>0.0001</td>\n",
       "      <td>124</td>\n",
       "      <td>-13.997315</td>\n",
       "      <td>828.950736</td>\n",
       "      <td>6710</td>\n",
       "      <td>1702</td>\n",
       "    </tr>\n",
       "    <tr>\n",
       "      <th>12</th>\n",
       "      <td>12</td>\n",
       "      <td>5</td>\n",
       "      <td>1.000000e-08</td>\n",
       "      <td>0.0001</td>\n",
       "      <td>44</td>\n",
       "      <td>-5.142091</td>\n",
       "      <td>87.293307</td>\n",
       "      <td>348</td>\n",
       "      <td>168</td>\n",
       "    </tr>\n",
       "    <tr>\n",
       "      <th>13</th>\n",
       "      <td>8</td>\n",
       "      <td>5</td>\n",
       "      <td>1.000000e-08</td>\n",
       "      <td>0.0001</td>\n",
       "      <td>28</td>\n",
       "      <td>-3.374933</td>\n",
       "      <td>24.250301</td>\n",
       "      <td>150</td>\n",
       "      <td>44</td>\n",
       "    </tr>\n",
       "    <tr>\n",
       "      <th>14</th>\n",
       "      <td>4</td>\n",
       "      <td>5</td>\n",
       "      <td>1.000000e-08</td>\n",
       "      <td>0.0001</td>\n",
       "      <td>12</td>\n",
       "      <td>-1.616025</td>\n",
       "      <td>3.903861</td>\n",
       "      <td>24</td>\n",
       "      <td>6</td>\n",
       "    </tr>\n",
       "    <tr>\n",
       "      <th>15</th>\n",
       "      <td>36</td>\n",
       "      <td>5</td>\n",
       "      <td>1.000000e-08</td>\n",
       "      <td>0.0001</td>\n",
       "      <td>140</td>\n",
       "      <td>-15.769340</td>\n",
       "      <td>1081.203357</td>\n",
       "      <td>8460</td>\n",
       "      <td>2190</td>\n",
       "    </tr>\n",
       "    <tr>\n",
       "      <th>16</th>\n",
       "      <td>40</td>\n",
       "      <td>5</td>\n",
       "      <td>1.000000e-08</td>\n",
       "      <td>0.0001</td>\n",
       "      <td>156</td>\n",
       "      <td>-17.541472</td>\n",
       "      <td>1499.735698</td>\n",
       "      <td>10410</td>\n",
       "      <td>2809</td>\n",
       "    </tr>\n",
       "    <tr>\n",
       "      <th>17</th>\n",
       "      <td>40</td>\n",
       "      <td>5</td>\n",
       "      <td>1.000000e-08</td>\n",
       "      <td>0.0001</td>\n",
       "      <td>156</td>\n",
       "      <td>-17.541472</td>\n",
       "      <td>1291.862945</td>\n",
       "      <td>10410</td>\n",
       "      <td>2809</td>\n",
       "    </tr>\n",
       "  </tbody>\n",
       "</table>\n",
       "</div>"
      ],
      "text/plain": [
       "    n_sites  n_lanczos           tol   abort  number_steps     energy  \\\n",
       "0        24          5  1.000000e-06  0.0010            92 -10.453495   \n",
       "1        28          5  1.000000e-06  0.0010           108 -12.224958   \n",
       "2        28          5  1.000000e-08  0.0001           108 -12.225440   \n",
       "3        24          5  1.000000e-08  0.0001            92 -10.453785   \n",
       "4        20          5  1.000000e-08  0.0001            76  -8.682473   \n",
       "5        16          5  1.000000e-08  0.0001            60  -6.911737   \n",
       "6        12          5  1.000000e-08  0.0001            44  -5.142091   \n",
       "7        16          5  1.000000e-08  0.0001            60  -6.911737   \n",
       "8        20          5  1.000000e-08  0.0001            76  -8.682473   \n",
       "9        24          5  1.000000e-08  0.0001            92 -10.453785   \n",
       "10       28          5  1.000000e-08  0.0001           108 -12.225440   \n",
       "11       32          5  1.000000e-08  0.0001           124 -13.997315   \n",
       "12       12          5  1.000000e-08  0.0001            44  -5.142091   \n",
       "13        8          5  1.000000e-08  0.0001            28  -3.374933   \n",
       "14        4          5  1.000000e-08  0.0001            12  -1.616025   \n",
       "15       36          5  1.000000e-08  0.0001           140 -15.769340   \n",
       "16       40          5  1.000000e-08  0.0001           156 -17.541472   \n",
       "17       40          5  1.000000e-08  0.0001           156 -17.541472   \n",
       "\n",
       "        runtime  initial_paras  post_opt_paras  \n",
       "0    422.876993           6000             316  \n",
       "1    579.223630           5160             388  \n",
       "2    616.237162           3304            1370  \n",
       "3    439.493222           2440             984  \n",
       "4    293.711593           1704             594  \n",
       "5    176.042640           1096             332  \n",
       "6     88.781992            960             168  \n",
       "7    172.732468           1710             332  \n",
       "8    302.053947           2660             594  \n",
       "9    449.384270           3810             984  \n",
       "10   625.955444           5160            1370  \n",
       "11   828.950736           6710            1702  \n",
       "12    87.293307            348             168  \n",
       "13    24.250301            150              44  \n",
       "14     3.903861             24               6  \n",
       "15  1081.203357           8460            2190  \n",
       "16  1499.735698          10410            2809  \n",
       "17  1291.862945          10410            2809  "
      ]
     },
     "execution_count": 34,
     "metadata": {},
     "output_type": "execute_result"
    }
   ],
   "source": [
    "df = pd.read_csv(f'Results/Results_SU(2)_TwoSite', index_col=[0])\n",
    "df"
   ]
  },
  {
   "cell_type": "code",
   "execution_count": 35,
   "id": "9e89731e-0e57-4416-a6de-fa251785835b",
   "metadata": {},
   "outputs": [],
   "source": [
    "np.save('Two-site SU2 DMRG d=5v2', en[2])"
   ]
  },
  {
   "cell_type": "code",
   "execution_count": null,
   "id": "20664d8e-0473-47a2-be72-4e4efce745c1",
   "metadata": {},
   "outputs": [],
   "source": []
  }
 ],
 "metadata": {
  "kernelspec": {
   "display_name": "Python 3 (ipykernel)",
   "language": "python",
   "name": "python3"
  },
  "language_info": {
   "codemirror_mode": {
    "name": "ipython",
    "version": 3
   },
   "file_extension": ".py",
   "mimetype": "text/x-python",
   "name": "python",
   "nbconvert_exporter": "python",
   "pygments_lexer": "ipython3",
   "version": "3.10.13"
  }
 },
 "nbformat": 4,
 "nbformat_minor": 5
}
